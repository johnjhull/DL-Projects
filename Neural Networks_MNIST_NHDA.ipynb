{
 "cells": [
  {
   "cell_type": "markdown",
   "metadata": {},
   "source": [
    "# Data Preparation:\n",
    "\n",
    "Data obtained from the MNIST database website (LeCun, Cortes, Burges) [here](http://yann.lecun.com/exdb/mnist/), downloaded locally through browser. \n",
    "\n",
    "The files are in IDX form, see the bottom of the linked page for more information.  We use the idx2numpy package to handle the data. "
   ]
  },
  {
   "cell_type": "code",
   "execution_count": 1,
   "metadata": {},
   "outputs": [],
   "source": [
    "import numpy as np\n",
    "import matplotlib.pyplot as plt\n",
    "import random\n",
    "from collections import Counter\n",
    "import math\n",
    "import tensorflow as tf\n",
    "\n",
    "# Note: If you are using Anaconda and you used PIP install in the prompt to get the pacakge, \n",
    "# you need to make sure it's installed to the correct environment. For example, use \n",
    "# \"activate py36\" in the prompt before installing the package.\n",
    "\n",
    "try:\n",
    "    import idx2numpy\n",
    "except:\n",
    "    print(\"Package not found.\")"
   ]
  },
  {
   "cell_type": "code",
   "execution_count": 2,
   "metadata": {},
   "outputs": [],
   "source": [
    "# Read the IDX file in as a numpy array. I have the data saved in a folder labeled MNIST.\n",
    "\n",
    "train_images = idx2numpy.convert_from_file('MNIST//train-images.idx3-ubyte')\n",
    "train_labels = idx2numpy.convert_from_file('MNIST//train-labels.idx1-ubyte')\n",
    "test_images = idx2numpy.convert_from_file('MNIST//t10k-images.idx3-ubyte')\n",
    "test_labels = idx2numpy.convert_from_file('MNIST//t10k-labels.idx1-ubyte')"
   ]
  },
  {
   "cell_type": "markdown",
   "metadata": {},
   "source": [
    "A function to check that the data makes sense. \n",
    "\n",
    "The image data is stored as what could be described as an a array of matrices, so that for example, train_images\\[0\\] is a $28\\times 28$ matrix of grey-scale integer pixel values (0=white, 255 = black). The pyplot imshow function will display such a matrix as an image. "
   ]
  },
  {
   "cell_type": "code",
   "execution_count": 3,
   "metadata": {},
   "outputs": [],
   "source": [
    "def show_random_image(image_array, label_array):\n",
    "    num_images = len(image_array)\n",
    "    random_int = random.randint(0,num_images-1)\n",
    "    plt.imshow(image_array[random_int], cmap = 'Greys')\n",
    "    print(\"Index: \" + str(random_int))\n",
    "    print(\"Label: \" + str(label_array[random_int]))\n",
    "    return"
   ]
  },
  {
   "cell_type": "code",
   "execution_count": 4,
   "metadata": {},
   "outputs": [
    {
     "name": "stdout",
     "output_type": "stream",
     "text": [
      "Index: 30205\n",
      "Label: 9\n"
     ]
    },
    {
     "data": {
      "image/png": "[encoded data removed]",
      "text/plain": [
       "<Figure size 432x288 with 1 Axes>"
      ]
     },
     "metadata": {
      "needs_background": "light"
     },
     "output_type": "display_data"
    }
   ],
   "source": [
    "show_random_image(train_images, train_labels)"
   ]
  },
  {
   "cell_type": "code",
   "execution_count": 5,
   "metadata": {},
   "outputs": [
    {
     "name": "stdout",
     "output_type": "stream",
     "text": [
      "Index: 239\n",
      "Label: 1\n"
     ]
    },
    {
     "data": {
      "image/png": "[encoded data removed]",
      "text/plain": [
       "<Figure size 432x288 with 1 Axes>"
      ]
     },
     "metadata": {
      "needs_background": "light"
     },
     "output_type": "display_data"
    }
   ],
   "source": [
    "show_random_image(test_images, test_labels)"
   ]
  },
  {
   "cell_type": "markdown",
   "metadata": {},
   "source": [
    "## Check for data balance:\n",
    "\n",
    "We should know whether or not every class occurs equally as often (called *balance*). It appears that the dataset has 1300 more instances of 1 (most) than 5 (least). It could be that they added more data for those numbers that were most likely to be confused, or simply because those are the numbers appearing most in postal addresses.  "
   ]
  },
  {
   "cell_type": "code",
   "execution_count": 6,
   "metadata": {},
   "outputs": [
    {
     "name": "stdout",
     "output_type": "stream",
     "text": [
      "Instance of classes: Counter({1: 6742, 7: 6265, 3: 6131, 2: 5958, 9: 5949, 0: 5923, 6: 5918, 8: 5851, 4: 5842, 5: 5421})\n"
     ]
    }
   ],
   "source": [
    "train_class_count = Counter()\n",
    "for label in train_labels:\n",
    "    train_class_count[label] += 1\n",
    "    \n",
    "print(\"Instance of classes: \", end = '')\n",
    "print(train_class_count)"
   ]
  },
  {
   "cell_type": "code",
   "execution_count": 7,
   "metadata": {},
   "outputs": [
    {
     "name": "stdout",
     "output_type": "stream",
     "text": [
      "Instance of classes: Counter({1: 1135, 2: 1032, 7: 1028, 3: 1010, 9: 1009, 4: 982, 0: 980, 8: 974, 6: 958, 5: 892})\n"
     ]
    }
   ],
   "source": [
    "test_class_count = Counter()\n",
    "for label in test_labels:\n",
    "    test_class_count[label] += 1\n",
    "    \n",
    "print(\"Instance of classes: \", end = '')\n",
    "print(test_class_count)"
   ]
  },
  {
   "cell_type": "markdown",
   "metadata": {},
   "source": [
    "## Construct a balanced training/validation set:\n",
    "\n"
   ]
  },
  {
   "cell_type": "code",
   "execution_count": 8,
   "metadata": {},
   "outputs": [],
   "source": [
    "def train_validation_split(data_array, label_array, train_ratio):\n",
    "    labels = np.unique(label_array) # An array of the distinct entry values occuring in the argument.\n",
    "    train_indices = []\n",
    "    valid_indices = []\n",
    "    for label in labels:\n",
    "        label_indices = [i for i,x in enumerate(label_array) if x == label]\n",
    "        instance_count = len(label_indices)\n",
    "        partition = int(math.floor(train_ratio*instance_count))\n",
    "        random.shuffle(label_indices)\n",
    "        to_train = label_indices[:partition]\n",
    "        to_valid = label_indices[partition:]\n",
    "        train_indices = train_indices + to_train\n",
    "        valid_indices = valid_indices + to_valid\n",
    "    random.shuffle(train_indices)\n",
    "    random.shuffle(valid_indices)\n",
    "    train_data = data_array[train_indices]\n",
    "    train_labels = label_array[train_indices]\n",
    "    valid_data = data_array[valid_indices]\n",
    "    valid_labels = label_array[valid_indices]\n",
    "    return train_data, train_labels, valid_data, valid_labels"
   ]
  },
  {
   "cell_type": "code",
   "execution_count": 9,
   "metadata": {},
   "outputs": [
    {
     "name": "stdout",
     "output_type": "stream",
     "text": [
      "Test Size: 47995\n",
      "Validation Size: 12005\n",
      "Instance of classes: Counter({1: 5393, 7: 5012, 3: 4904, 2: 4766, 9: 4759, 0: 4738, 6: 4734, 8: 4680, 4: 4673, 5: 4336})\n",
      "Instance of classes: Counter({1: 1349, 7: 1253, 3: 1227, 2: 1192, 9: 1190, 0: 1185, 6: 1184, 8: 1171, 4: 1169, 5: 1085})\n"
     ]
    }
   ],
   "source": [
    "train_images, train_labels, valid_images, valid_labels = train_validation_split(train_images, train_labels, .8)\n",
    "\n",
    "print(\"Test Size: \" + str(len(train_images)))\n",
    "print(\"Validation Size: \" + str(len(valid_images)))\n",
    "\n",
    "train_class_count = Counter()\n",
    "for label in train_labels:\n",
    "    train_class_count[label] += 1\n",
    "    \n",
    "print(\"Instance of classes: \", end = '')\n",
    "print(train_class_count)\n",
    "\n",
    "valid_class_count = Counter()\n",
    "for label in valid_labels:\n",
    "    valid_class_count[label] += 1\n",
    "    \n",
    "print(\"Instance of classes: \", end = '')\n",
    "print(valid_class_count)"
   ]
  },
  {
   "cell_type": "code",
   "execution_count": 10,
   "metadata": {},
   "outputs": [
    {
     "name": "stdout",
     "output_type": "stream",
     "text": [
      "Index: 16545\n",
      "Label: 2\n"
     ]
    },
    {
     "data": {
      "image/png": "[encoded data removed]",
      "text/plain": [
       "<Figure size 432x288 with 1 Axes>"
      ]
     },
     "metadata": {
      "needs_background": "light"
     },
     "output_type": "display_data"
    }
   ],
   "source": [
    "show_random_image(train_images, train_labels)"
   ]
  },
  {
   "cell_type": "code",
   "execution_count": 11,
   "metadata": {},
   "outputs": [
    {
     "name": "stdout",
     "output_type": "stream",
     "text": [
      "Index: 5301\n",
      "Label: 3\n"
     ]
    },
    {
     "data": {
      "image/png": "[encoded data removed]",
      "text/plain": [
       "<Figure size 432x288 with 1 Axes>"
      ]
     },
     "metadata": {
      "needs_background": "light"
     },
     "output_type": "display_data"
    }
   ],
   "source": [
    "show_random_image(valid_images, valid_labels)"
   ]
  },
  {
   "cell_type": "markdown",
   "metadata": {},
   "source": [
    "Reformat the data as a 2 dimensional array for matrix operations."
   ]
  },
  {
   "cell_type": "code",
   "execution_count": 12,
   "metadata": {},
   "outputs": [],
   "source": [
    "# Flatten images, normalize them between -1 and 1, and one-hot encode the labels. \n",
    "\n",
    "def reformat(images, labels):\n",
    "    out_images = images.reshape((-1,28*28)).astype(np.float32)\n",
    "    out_images = (out_images-(255.)/2)/255.\n",
    "    out_labels = (np.arange(10) == labels[:,None]).astype(np.float32)\n",
    "    return out_images, out_labels\n",
    "\n",
    "# Unflatten images. Need: unencode labels [gracefully - probably np.where(array = 1) somehow].\n",
    "\n",
    "def unreformat(images):\n",
    "    out_images = images.reshape((-1,28,28)).astype(np.float32)\n",
    "    return out_images"
   ]
  },
  {
   "cell_type": "code",
   "execution_count": 13,
   "metadata": {},
   "outputs": [],
   "source": [
    "train_images, train_labels = reformat(train_images, train_labels)\n",
    "valid_images, valid_labels = reformat(valid_images, valid_labels)\n",
    "test_images, test_labels = reformat(test_images, test_labels)"
   ]
  },
  {
   "cell_type": "code",
   "execution_count": 14,
   "metadata": {},
   "outputs": [
    {
     "name": "stdout",
     "output_type": "stream",
     "text": [
      "Training Data Shape: (47995, 784)\n",
      "Validation Data Shape: (12005, 784)\n",
      "Test Data Shape: (10000, 784)\n",
      "Training Labels Shape: (47995, 10)\n",
      "Validation Labels Shape: (12005, 10)\n",
      "Test Labels Shape: (10000, 10)\n"
     ]
    }
   ],
   "source": [
    "print(\"Training Data Shape: \" + str(train_images.shape))\n",
    "print(\"Validation Data Shape: \" + str(valid_images.shape))\n",
    "print(\"Test Data Shape: \" + str(test_images.shape))\n",
    "\n",
    "print(\"Training Labels Shape: \" + str(train_labels.shape))\n",
    "print(\"Validation Labels Shape: \" + str(valid_labels.shape))\n",
    "print(\"Test Labels Shape: \" + str(test_labels.shape))"
   ]
  },
  {
   "cell_type": "markdown",
   "metadata": {},
   "source": [
    "# Neural Network Constructions:"
   ]
  },
  {
   "cell_type": "code",
   "execution_count": 15,
   "metadata": {},
   "outputs": [],
   "source": [
    "def accuracy(predicted_labels, true_labels):\n",
    "    return(100*np.sum(np.argmax(predicted_labels, 1)==np.argmax(true_labels, 1))\n",
    "           /predicted_labels.shape[0])"
   ]
  },
  {
   "cell_type": "markdown",
   "metadata": {},
   "source": [
    "## Simple regression classifier"
   ]
  },
  {
   "cell_type": "code",
   "execution_count": 16,
   "metadata": {},
   "outputs": [
    {
     "name": "stdout",
     "output_type": "stream",
     "text": [
      "WARNING:tensorflow:From <ipython-input-16-0621d1647c83>:15: softmax_cross_entropy_with_logits (from tensorflow.python.ops.nn_ops) is deprecated and will be removed in a future version.\n",
      "Instructions for updating:\n",
      "\n",
      "Future major versions of TensorFlow will allow gradients to flow\n",
      "into the labels input on backprop by default.\n",
      "\n",
      "See `tf.nn.softmax_cross_entropy_with_logits_v2`.\n",
      "\n"
     ]
    }
   ],
   "source": [
    "regression_graph = tf.Graph()\n",
    "\n",
    "with regression_graph.as_default():\n",
    "    # Feed in the constant data.\n",
    "    T = tf.constant(train_images)\n",
    "    Tlabel = tf.constant(train_labels)\n",
    "    V = tf.constant(valid_images)\n",
    "    E = tf.constant(test_images)\n",
    "    # Establish variable matrix and bias vector.\n",
    "    W = tf.Variable(tf.truncated_normal([784, 10])) # Randomly initialized.\n",
    "    b = tf.Variable(tf.zeros([10])) # Initialized at origin. \n",
    "    # Do the logit computation.\n",
    "    L = tf.matmul(T,W)+b\n",
    "    # Do the softmax and crossentropy.\n",
    "    l = tf.nn.softmax_cross_entropy_with_logits(labels = Tlabel, logits = L)\n",
    "    # Take the average to get the loss function output.\n",
    "    loss = tf.reduce_mean(l)\n",
    "    optimizer = tf.train.GradientDescentOptimizer(0.5).minimize(loss)\n",
    "    # Monitoring outputs.\n",
    "    train_predictions = tf.nn.softmax(L)\n",
    "    valid_predictions = tf.nn.softmax(tf.matmul(V,W)+b)\n",
    "    test_predictions = tf.nn.softmax(tf.matmul(E,W)+b)"
   ]
  },
  {
   "cell_type": "code",
   "execution_count": 17,
   "metadata": {},
   "outputs": [
    {
     "name": "stdout",
     "output_type": "stream",
     "text": [
      "Variables Initialized\n",
      "Iteration 0: loss = 14.652564,  training accuracy = 9.7%,  validation accuracy = 9.7%.\n",
      "Iteration 100: loss = 1.189335,  training accuracy = 75.3%,  validation accuracy = 75.2%.\n",
      "Iteration 200: loss = 0.861220,  training accuracy = 81.2%,  validation accuracy = 81.3%.\n",
      "Iteration 300: loss = 0.726796,  training accuracy = 83.7%,  validation accuracy = 83.5%.\n",
      "Iteration 400: loss = 0.649219,  training accuracy = 85.1%,  validation accuracy = 84.8%.\n",
      "Iteration 500: loss = 0.597067,  training accuracy = 86.0%,  validation accuracy = 85.6%.\n",
      "Iteration 600: loss = 0.558825,  training accuracy = 86.6%,  validation accuracy = 86.2%.\n",
      "Iteration 700: loss = 0.529230,  training accuracy = 87.2%,  validation accuracy = 86.7%.\n",
      "Iteration 800: loss = 0.505484,  training accuracy = 87.6%,  validation accuracy = 87.2%.\n",
      "Iteration 900: loss = 0.485915,  training accuracy = 88.0%,  validation accuracy = 87.5%.\n",
      "Test accuracy: 88.4%\n"
     ]
    }
   ],
   "source": [
    "number_of_iterations = 1000\n",
    "\n",
    "with tf.Session(graph = regression_graph) as session:\n",
    "    tf.global_variables_initializer().run()\n",
    "    print('Variables Initialized')\n",
    "    for iteration in range(number_of_iterations):\n",
    "        session.run(optimizer)\n",
    "        if (iteration % 100 == 0):\n",
    "            print('Iteration %d: ' % iteration, end=\"\")\n",
    "            l = loss.eval()\n",
    "            print('loss = %f, ' % l, end=\"\")\n",
    "            train_predict = train_predictions.eval()\n",
    "            print(' training accuracy = %.1f%%' % accuracy(train_predict, train_labels), end=\", \")\n",
    "            valid_predict = valid_predictions.eval()\n",
    "            print(' validation accuracy = %.1f%%.' % accuracy(valid_predict, valid_labels))\n",
    "    test_predict = test_predictions.eval()\n",
    "    print('Test accuracy: %.1f%%' % accuracy(test_predict, test_labels))"
   ]
  },
  {
   "cell_type": "markdown",
   "metadata": {},
   "source": [
    "## Stochastic Regression\n",
    "\n",
    "Train with small batches instead of the whole dataset at once. "
   ]
  },
  {
   "cell_type": "code",
   "execution_count": 18,
   "metadata": {},
   "outputs": [],
   "source": [
    "stochastic_regression_graph = tf.Graph()\n",
    "batch_size = 1000\n",
    "\n",
    "with stochastic_regression_graph.as_default():\n",
    "    # Placeholders to feed batches of training data.\n",
    "    T = tf.placeholder(tf.float32, shape=(batch_size, 784)) # Trains batches of 100.\n",
    "    Tlabel = tf.placeholder(tf.float32, shape=(batch_size, 10))\n",
    "    # Validation and test data remain constant.\n",
    "    V = tf.constant(valid_images)\n",
    "    E = tf.constant(test_images)\n",
    "    # Establish variable matrix and bias vector.\n",
    "    W = tf.Variable(tf.truncated_normal([784, 10])) # Randomly initialized.\n",
    "    b = tf.Variable(tf.zeros([10])) # Initialized at origin. \n",
    "    # logit computation\n",
    "    L = tf.matmul(T,W)+b\n",
    "    # softmax, crossentropy and loss\n",
    "    smce = tf.nn.softmax_cross_entropy_with_logits(labels = Tlabel, logits = L)\n",
    "    loss = tf.reduce_mean(smce)\n",
    "    # Optimize\n",
    "    optimizer = tf.train.GradientDescentOptimizer(0.5).minimize(loss)\n",
    "    # Monitoring outputs.\n",
    "    train_predictions = tf.nn.softmax(L)\n",
    "    valid_predictions = tf.nn.softmax(tf.matmul(V,W)+b)\n",
    "    test_predictions = tf.nn.softmax(tf.matmul(E,W)+b)"
   ]
  },
  {
   "cell_type": "code",
   "execution_count": 19,
   "metadata": {},
   "outputs": [
    {
     "name": "stdout",
     "output_type": "stream",
     "text": [
      "Variables Initialized.\n",
      "Epoch 0, Iteration: 1\n",
      "loss = 13.845592, training accuracy = 9.3%, validation accuracy = 15.3%.\n",
      "Epoch 100, Iteration: 4801\n",
      "loss = 0.283729, training accuracy = 92.1%, validation accuracy = 90.6%.\n",
      "Epoch 200, Iteration: 9601\n",
      "loss = 0.268764, training accuracy = 92.6%, validation accuracy = 90.9%.\n",
      "Epoch 300, Iteration: 14400\n",
      "loss = 0.301649, training accuracy = 92.5%, validation accuracy = 91.2%.\n",
      "Epoch 400, Iteration: 19200\n",
      "loss = 0.191351, training accuracy = 94.4%, validation accuracy = 91.5%.\n",
      "Epoch 500, Iteration: 23999\n",
      "loss = 0.255783, training accuracy = 93.3%, validation accuracy = 91.4%.\n",
      "Epoch 600, Iteration: 28799\n",
      "loss = 0.261805, training accuracy = 93.2%, validation accuracy = 91.7%.\n",
      "Epoch 700, Iteration: 33599\n",
      "loss = 0.234398, training accuracy = 93.6%, validation accuracy = 91.7%.\n",
      "Epoch 800, Iteration: 38398\n",
      "loss = 0.172036, training accuracy = 95.1%, validation accuracy = 91.5%.\n",
      "Epoch 900, Iteration: 43198\n",
      "loss = 0.229250, training accuracy = 93.8%, validation accuracy = 91.5%.\n",
      "Epoch 1000, Iteration: 47997\n",
      "loss = 0.214826, training accuracy = 93.1%, validation accuracy = 91.5%.\n",
      "Test accuracy: 92.3%\n"
     ]
    }
   ],
   "source": [
    "number_of_epochs = 1000\n",
    "\n",
    "with tf.Session(graph = stochastic_regression_graph) as session:\n",
    "    tf.global_variables_initializer().run()\n",
    "    epoch = 0\n",
    "    print('Variables Initialized.')\n",
    "    last_offset = 0\n",
    "    iteration = 0\n",
    "    inner_epoch_samples = 0\n",
    "    last_epoch = -1\n",
    "    while epoch <= number_of_epochs+1:\n",
    "        # Generate Batches\n",
    "        offset = (iteration * batch_size) % (train_labels.shape[0]-batch_size)\n",
    "        batch_data = train_images[offset :(offset + batch_size), : ]\n",
    "        batch_labels = train_labels[offset : (offset + batch_size), : ]\n",
    "        \n",
    "        # Randomize Within Batch: This slows things down but may be better pratice.\n",
    "        randomized_indices = list(range(batch_size))\n",
    "        random.shuffle(randomized_indices)\n",
    "        randomized_batch_data = batch_data[randomized_indices]\n",
    "        randomized_batch_labels = batch_labels[randomized_indices]\n",
    "        \n",
    "        # Run Model\n",
    "        feed_dict = {T : randomized_batch_data, Tlabel : randomized_batch_labels}\n",
    "        _, l, train_predict = session.run([optimizer, loss, train_predictions], feed_dict = feed_dict)\n",
    "        iteration += 1\n",
    "        inner_epoch_samples += batch_size\n",
    "        \n",
    "        # Report\n",
    "        if (epoch % 100) == 0 and epoch > last_epoch:\n",
    "            print('Epoch %d, Iteration: %d' % (epoch, iteration))\n",
    "            print('loss = %f' % l, end = \", \")\n",
    "            train_acc = accuracy(train_predict, randomized_batch_labels)\n",
    "            print('training accuracy = %.1f%%' % train_acc, end = \", \")\n",
    "            valid_acc = accuracy(valid_predictions.eval(), valid_labels)\n",
    "            print('validation accuracy = %.1f%%.' % valid_acc)\n",
    "            last_epoch = epoch\n",
    "        if inner_epoch_samples - train_labels.shape[0] > 0:\n",
    "            inner_epoch_samples = inner_epoch_samples - (train_labels.shape[0]+1)\n",
    "            epoch += 1\n",
    "    test_predict = test_predictions.eval()\n",
    "    print('Test accuracy: %.1f%%' % accuracy(test_predict, test_labels))"
   ]
  },
  {
   "cell_type": "markdown",
   "metadata": {},
   "source": [
    "## Fully Connected Neural Network, 1 Hidden Layer"
   ]
  },
  {
   "cell_type": "code",
   "execution_count": 20,
   "metadata": {},
   "outputs": [],
   "source": [
    "batch_size = 100\n",
    "number_of_nodes = 1024 # Note: Results in a bigger network, so decrease learning rate. \n",
    "\n",
    "FCNN_1HL_graph = tf.Graph()\n",
    "\n",
    "def FCNN_1HL_model(data, dropout = True):\n",
    "        log1 = tf.matmul(data, W1) + b1\n",
    "        hid1 = tf.nn.leaky_relu(log1)\n",
    "        if dropout:\n",
    "            hid1 = tf.nn.dropout(hid1, keep_prob = .5)\n",
    "        log2 = tf.matmul(hid1, W2)+b2\n",
    "        return log2\n",
    "\n",
    "with FCNN_1HL_graph.as_default():\n",
    "    T = tf.placeholder(tf.float32, shape=(batch_size, 784)) # Trains batches of 100.\n",
    "    Tlabel = tf.placeholder(tf.float32, shape=(batch_size, 10))\n",
    "    # Validation and test data remain constant.\n",
    "    V = tf.constant(valid_images)\n",
    "    E = tf.constant(test_images)\n",
    "    # Establish variable matrices and bias vectors.\n",
    "    W1 = tf.Variable(tf.random_normal([784, number_of_nodes]))\n",
    "    b1 = tf.Variable(tf.zeros([number_of_nodes]))\n",
    "    W2 = tf.Variable(tf.truncated_normal([number_of_nodes, 10]))\n",
    "    b2 = tf.Variable(tf.zeros([10])) \n",
    "    # Model\n",
    "    L = FCNN_1HL_model(T)\n",
    "    # logits, softmax, crossentropy and loss\n",
    "    smce = tf.nn.softmax_cross_entropy_with_logits(labels = Tlabel, logits = L)\n",
    "    loss = tf.reduce_mean(smce)\n",
    "    # Optimize\n",
    "    optimizer = tf.train.GradientDescentOptimizer(0.05).minimize(loss)\n",
    "    # Monitoring outputs.\n",
    "    train_predictions = tf.nn.softmax(FCNN_1HL_model(T, dropout = False))\n",
    "    valid_predictions = tf.nn.softmax(FCNN_1HL_model(V, dropout = False))\n",
    "    test_predictions = tf.nn.softmax(FCNN_1HL_model(E, dropout = False))"
   ]
  },
  {
   "cell_type": "code",
   "execution_count": 21,
   "metadata": {},
   "outputs": [
    {
     "name": "stdout",
     "output_type": "stream",
     "text": [
      "Variables Initialized.\n",
      "Epoch 0, Iteration: 1\n",
      "loss = 649.817566, training accuracy = 10.0%, validation accuracy = 12.2%.\n",
      "Epoch 2, Iteration: 961\n",
      "loss = 15.403095, training accuracy = 91.0%, validation accuracy = 91.8%.\n",
      "Epoch 4, Iteration: 1921\n",
      "loss = 15.983130, training accuracy = 92.0%, validation accuracy = 93.3%.\n",
      "Epoch 6, Iteration: 2881\n",
      "loss = 5.002710, training accuracy = 99.0%, validation accuracy = 94.0%.\n",
      "Epoch 8, Iteration: 3841\n",
      "loss = 3.689040, training accuracy = 94.0%, validation accuracy = 94.4%.\n",
      "Epoch 10, Iteration: 4801\n",
      "loss = 3.825443, training accuracy = 96.0%, validation accuracy = 94.8%.\n",
      "Epoch 12, Iteration: 5761\n",
      "loss = 3.221264, training accuracy = 94.0%, validation accuracy = 94.9%.\n",
      "Epoch 14, Iteration: 6721\n",
      "loss = 4.457300, training accuracy = 95.0%, validation accuracy = 95.1%.\n",
      "Epoch 16, Iteration: 7681\n",
      "loss = 0.806422, training accuracy = 96.0%, validation accuracy = 95.4%.\n",
      "Epoch 18, Iteration: 8641\n",
      "loss = 1.326221, training accuracy = 96.0%, validation accuracy = 95.2%.\n",
      "Epoch 20, Iteration: 9601\n",
      "loss = 2.105155, training accuracy = 98.0%, validation accuracy = 95.5%.\n",
      "Test accuracy: 96.0%\n"
     ]
    }
   ],
   "source": [
    "number_of_epochs = 20\n",
    "\n",
    "with tf.Session(graph = FCNN_1HL_graph) as session:\n",
    "    tf.global_variables_initializer().run()\n",
    "    epoch = 0\n",
    "    print('Variables Initialized.')\n",
    "    last_offset = 0\n",
    "    iteration = 0\n",
    "    inner_epoch_samples = 0\n",
    "    last_epoch = -1\n",
    "    while epoch <= number_of_epochs+1:\n",
    "        # Generate Batches\n",
    "        offset = (iteration * batch_size) % (train_labels.shape[0]-batch_size)\n",
    "        batch_data = train_images[offset :(offset + batch_size), : ]\n",
    "        batch_labels = train_labels[offset : (offset + batch_size), : ]\n",
    "        \n",
    "        # Randomize Within Batch: This slows things down but may be better pratice in general.\n",
    "        randomized_indices = list(range(batch_size))\n",
    "        random.shuffle(randomized_indices)\n",
    "        randomized_batch_data = batch_data[randomized_indices]\n",
    "        randomized_batch_labels = batch_labels[randomized_indices]\n",
    "    \n",
    "        # Run Model\n",
    "        feed_dict = {T : randomized_batch_data, Tlabel : randomized_batch_labels}\n",
    "        _, l, train_predict = session.run([optimizer, loss, train_predictions], feed_dict = feed_dict)\n",
    "        iteration += 1\n",
    "        inner_epoch_samples += batch_size\n",
    "        \n",
    "        # Report\n",
    "        if (epoch % 2) == 0 and epoch > last_epoch:\n",
    "            print('Epoch %d, Iteration: %d' % (epoch, iteration))\n",
    "            print('loss = %f' % l, end = \", \")\n",
    "            train_acc = accuracy(train_predict, randomized_batch_labels)\n",
    "            print('training accuracy = %.1f%%' % train_acc, end = \", \")\n",
    "            valid_acc = accuracy(valid_predictions.eval(), valid_labels)\n",
    "            print('validation accuracy = %.1f%%.' % valid_acc)\n",
    "            last_epoch = epoch\n",
    "        if inner_epoch_samples - train_labels.shape[0] > 0:\n",
    "            inner_epoch_samples = inner_epoch_samples - (train_labels.shape[0]+1)\n",
    "            epoch += 1\n",
    "    test_predict = test_predictions.eval()\n",
    "    print('Test accuracy: %.1f%%' % accuracy(test_predict, test_labels))"
   ]
  },
  {
   "cell_type": "markdown",
   "metadata": {},
   "source": [
    "## Fully Connected Neural Network, 4 Hidden Layers"
   ]
  },
  {
   "cell_type": "code",
   "execution_count": 22,
   "metadata": {},
   "outputs": [],
   "source": [
    "batch_size = 100\n",
    "entry_number_of_nodes = 1024 # Note: Results in a MUCH bigger network with divisions, \n",
    "                        #so decrease learning rate/initialization standard deviation. \n",
    "\n",
    "learning_rate = .025\n",
    "init_stddev = .05\n",
    "\n",
    "FCNN_4HL_graph = tf.Graph()\n",
    "\n",
    "\n",
    "\n",
    "with FCNN_4HL_graph.as_default():\n",
    "    # Placeholder for batch data.\n",
    "    T = tf.placeholder(tf.float32, shape=(batch_size, 784))\n",
    "    Tlabel = tf.placeholder(tf.float32, shape=(batch_size, 10))\n",
    "    # Validation and test data remain constant.\n",
    "    V = tf.constant(valid_images)\n",
    "    E = tf.constant(test_images)\n",
    "    # Establish variable matrices and bias vectors.\n",
    "    W1 = tf.Variable(tf.random_normal([784, number_of_nodes], stddev = init_stddev))\n",
    "    b1 = tf.Variable(tf.zeros([number_of_nodes]))\n",
    "    W2 = tf.Variable(tf.truncated_normal([number_of_nodes, int(number_of_nodes/2)], stddev = init_stddev))\n",
    "    b2 = tf.Variable(tf.zeros([int(number_of_nodes/2)])) \n",
    "    W3 = tf.Variable(tf.truncated_normal([int(number_of_nodes/2), int(number_of_nodes/4)], stddev = init_stddev))\n",
    "    b3 = tf.Variable(tf.zeros([int(number_of_nodes/4)])) \n",
    "    W4 = tf.Variable(tf.truncated_normal([int(number_of_nodes/4), int(number_of_nodes/8)], stddev = init_stddev))\n",
    "    b4 = tf.Variable(tf.zeros([int(number_of_nodes/8)])) \n",
    "    W5 = tf.Variable(tf.truncated_normal([int(number_of_nodes/8), 10], stddev = init_stddev))\n",
    "    b5 = tf.Variable(tf.zeros([10])) \n",
    "    # Model\n",
    "    def FCNN_4HL_model(data, dropout = True):\n",
    "        log1 = tf.matmul(data, W1) + b1\n",
    "        hid1 = tf.nn.leaky_relu(log1)\n",
    "        if dropout:\n",
    "            hid1 = tf.nn.dropout(hid1, keep_prob = .5)\n",
    "        log2 = tf.matmul(hid1, W2)+b2\n",
    "        hid2 = tf.nn.leaky_relu(log2)\n",
    "        if dropout:\n",
    "            hid2 = tf.nn.dropout(hid2, keep_prob = .5)\n",
    "        log3 = tf.matmul(hid2, W3)+b3\n",
    "        hid3 = tf.nn.leaky_relu(log3)\n",
    "        if dropout:\n",
    "            hid3 = tf.nn.dropout(hid3, keep_prob = .5)\n",
    "        log4 = tf.matmul(hid3, W4)+b4\n",
    "        hid4 = tf.nn.leaky_relu(log4)\n",
    "        if dropout:\n",
    "            hid4 = tf.nn.dropout(hid4, keep_prob = .5)\n",
    "        log5 = tf.matmul(hid4, W5)+b5\n",
    "        return log5\n",
    "    \n",
    "    \n",
    "    # logits, softmax, crossentropy and loss\n",
    "    L = FCNN_4HL_model(T)\n",
    "    smce = tf.nn.softmax_cross_entropy_with_logits(labels = Tlabel, logits = L)\n",
    "    loss = tf.reduce_mean(smce)\n",
    "    # Optimize\n",
    "    optimizer = tf.train.GradientDescentOptimizer(learning_rate).minimize(loss)\n",
    "    # Monitoring outputs.\n",
    "    train_predictions = tf.nn.softmax(FCNN_4HL_model(T, dropout = False))\n",
    "    valid_predictions = tf.nn.softmax(FCNN_4HL_model(V, dropout = False))\n",
    "    test_predictions = tf.nn.softmax(FCNN_4HL_model(E, dropout = False))"
   ]
  },
  {
   "cell_type": "code",
   "execution_count": 23,
   "metadata": {},
   "outputs": [
    {
     "name": "stdout",
     "output_type": "stream",
     "text": [
      "Variables Initialized.\n",
      "Epoch 0, Iteration: 1\n",
      "loss = 2.386708, training accuracy = 13.0%, validation accuracy = 12.3%.\n",
      "Epoch 2, Iteration: 961\n",
      "loss = 0.765348, training accuracy = 84.0%, validation accuracy = 87.0%.\n",
      "Epoch 4, Iteration: 1921\n",
      "loss = 0.432627, training accuracy = 92.0%, validation accuracy = 90.4%.\n",
      "Epoch 6, Iteration: 2881\n",
      "loss = 0.291401, training accuracy = 90.0%, validation accuracy = 92.1%.\n",
      "Epoch 8, Iteration: 3841\n",
      "loss = 0.306259, training accuracy = 95.0%, validation accuracy = 93.3%.\n",
      "Epoch 10, Iteration: 4801\n",
      "loss = 0.269199, training accuracy = 95.0%, validation accuracy = 94.0%.\n",
      "Epoch 12, Iteration: 5761\n",
      "loss = 0.225274, training accuracy = 93.0%, validation accuracy = 94.3%.\n",
      "Epoch 14, Iteration: 6721\n",
      "loss = 0.298702, training accuracy = 94.0%, validation accuracy = 94.8%.\n",
      "Epoch 16, Iteration: 7681\n",
      "loss = 0.218531, training accuracy = 96.0%, validation accuracy = 95.2%.\n",
      "Epoch 18, Iteration: 8641\n",
      "loss = 0.164751, training accuracy = 98.0%, validation accuracy = 95.3%.\n",
      "Epoch 20, Iteration: 9601\n",
      "loss = 0.145662, training accuracy = 98.0%, validation accuracy = 95.5%.\n",
      "Test accuracy: 96.2%\n"
     ]
    }
   ],
   "source": [
    "number_of_epochs = 20\n",
    "\n",
    "with tf.Session(graph = FCNN_4HL_graph) as session:\n",
    "    tf.global_variables_initializer().run()\n",
    "    epoch = 0\n",
    "    print('Variables Initialized.')\n",
    "    last_offset = 0\n",
    "    iteration = 0\n",
    "    inner_epoch_samples = 0\n",
    "    last_epoch = -1\n",
    "    while epoch <= number_of_epochs+1:\n",
    "        # Generate Batches\n",
    "        offset = (iteration * batch_size) % (train_labels.shape[0]-batch_size)\n",
    "        batch_data = train_images[offset :(offset + batch_size), : ]\n",
    "        batch_labels = train_labels[offset : (offset + batch_size), : ]\n",
    "        \n",
    "        # Randomize Within Batch: This slows things down but may be better pratice in general.\n",
    "        randomized_indices = list(range(batch_size))\n",
    "        random.shuffle(randomized_indices)\n",
    "        randomized_batch_data = batch_data[randomized_indices]\n",
    "        randomized_batch_labels = batch_labels[randomized_indices]\n",
    "    \n",
    "        # Run Model\n",
    "        feed_dict = {T : randomized_batch_data, Tlabel : randomized_batch_labels}\n",
    "        _, l, train_predict = session.run([optimizer, loss, train_predictions], feed_dict = feed_dict)\n",
    "        iteration += 1\n",
    "        inner_epoch_samples += batch_size\n",
    "        \n",
    "        # Report\n",
    "        if (epoch % 2) == 0 and epoch > last_epoch:\n",
    "            print('Epoch %d, Iteration: %d' % (epoch, iteration))\n",
    "            print('loss = %f' % l, end = \", \")\n",
    "            train_acc = accuracy(train_predict, randomized_batch_labels)\n",
    "            print('training accuracy = %.1f%%' % train_acc, end = \", \")\n",
    "            valid_acc = accuracy(valid_predictions.eval(), valid_labels)\n",
    "            print('validation accuracy = %.1f%%.' % valid_acc)\n",
    "            last_epoch = epoch\n",
    "        if inner_epoch_samples - train_labels.shape[0] > 0:\n",
    "            inner_epoch_samples = inner_epoch_samples - (train_labels.shape[0]+1)\n",
    "            epoch += 1\n",
    "    test_predict = test_predictions.eval()\n",
    "    print('Test accuracy: %.1f%%' % accuracy(test_predict, test_labels))"
   ]
  },
  {
   "cell_type": "markdown",
   "metadata": {},
   "source": [
    "## Convolutional Neural Network"
   ]
  },
  {
   "cell_type": "code",
   "execution_count": 24,
   "metadata": {},
   "outputs": [
    {
     "name": "stdout",
     "output_type": "stream",
     "text": [
      "Train shape: (47995, 28, 28, 1)\n",
      "Valid shape: (12005, 28, 28, 1)\n",
      "Test shape: (10000, 28, 28, 1)\n"
     ]
    }
   ],
   "source": [
    "def reformat_for_CNN(images):\n",
    "    out_images = images.reshape((-1, 28, 28, 1)).astype(np.float32)\n",
    "    return out_images\n",
    "\n",
    "train_images_CNN = reformat_for_CNN(train_images)\n",
    "valid_images_CNN = reformat_for_CNN(valid_images)\n",
    "test_images_CNN = reformat_for_CNN(test_images)\n",
    "\n",
    "print(\"Train shape: \"+ str(train_images_CNN.shape))\n",
    "print(\"Valid shape: \"+ str(valid_images_CNN.shape))\n",
    "print(\"Test shape: \"+ str(test_images_CNN.shape))"
   ]
  },
  {
   "cell_type": "code",
   "execution_count": 26,
   "metadata": {},
   "outputs": [],
   "source": [
    "batch_size = 16\n",
    "patch_size = 5\n",
    "depth = 16\n",
    "number_of_nodes = 64\n",
    "number_of_nodes2 =32\n",
    "\n",
    "number_of_channels = 1\n",
    "number_of_labels = 10\n",
    "image_size = 28\n",
    "\n",
    "init_learning_rate = 0.05\n",
    "init_stddev = .1\n",
    "\n",
    "CNN_graph = tf.Graph()\n",
    "\n",
    "with CNN_graph.as_default():\n",
    "\n",
    "    # Input data.\n",
    "    T = tf.placeholder(tf.float32, shape=(batch_size, image_size, image_size, number_of_channels))\n",
    "    Tlabel = tf.placeholder(tf.float32, shape=(batch_size, number_of_labels))\n",
    "    V = tf.constant(valid_images_CNN)\n",
    "    E = tf.constant(test_images_CNN)\n",
    "  \n",
    "    # Variables.\n",
    "    W1 = tf.Variable(tf.truncated_normal([patch_size, patch_size, number_of_channels, depth], stddev=init_stddev))\n",
    "    b1 = tf.Variable(tf.zeros([depth]))\n",
    "    W2 = tf.Variable(tf.truncated_normal([patch_size, patch_size, depth, depth], stddev=init_stddev))\n",
    "    b2 = tf.Variable(tf.constant(1.0, shape=[depth]))\n",
    "    W3 = tf.Variable(tf.truncated_normal([64, number_of_nodes], stddev=init_stddev))\n",
    "    b3 = tf.Variable(tf.constant(1.0, shape=[number_of_nodes]))\n",
    "    W4 = tf.Variable(tf.truncated_normal([number_of_nodes, number_of_nodes2], stddev=init_stddev))\n",
    "    b4 = tf.Variable(tf.constant(1.0, shape=[number_of_nodes2]))\n",
    "    W5 = tf.Variable(tf.truncated_normal([number_of_nodes2, number_of_labels], stddev=init_stddev))\n",
    "    b5 = tf.Variable(tf.constant(1.0, shape=[number_of_labels]))\n",
    "    \n",
    "    # Model.\n",
    "    def model(data, dropout = True):\n",
    "        conv1 = tf.nn.conv2d(data, W1, [1, 2, 2, 1], padding='SAME')\n",
    "        hid1 = tf.nn.leaky_relu(conv1 + b1)\n",
    "        pool1 = tf.nn.max_pool(value = hid1, ksize = [1, 2, 2, 1], strides = [1,2,2,1], padding = 'SAME')\n",
    "        conv2 = tf.nn.conv2d(pool1, W2, [1, 2, 2, 1], padding='SAME')\n",
    "        hid2 = tf.nn.leaky_relu(conv2 + b2)\n",
    "        pool2 = tf.nn.max_pool(value = hid2, ksize = [1, 2, 2, 1], strides = [1,2,2,1], padding = 'SAME')\n",
    "        shape = pool2.get_shape().as_list()\n",
    "        reshape = tf.reshape(pool2, [shape[0], shape[1] * shape[2] * shape[3]])\n",
    "        log3 = tf.matmul(reshape, W3) + b3\n",
    "        hid3 = tf.nn.leaky_relu(log3)\n",
    "        if dropout == True:\n",
    "            hid3 = tf.nn.dropout(hid3, keep_prob = .5)\n",
    "        log4 = tf.matmul(hid3, W4) + b4\n",
    "        hid4 = tf.nn.leaky_relu(log4)\n",
    "        if dropout == True:\n",
    "            hid4 = tf.nn.dropout(hid4, keep_prob = .5)\n",
    "        log5 = tf.matmul(hid4, W5) + b5\n",
    "        return log5\n",
    "  \n",
    "    # logits, softmax, crossentropy and loss\n",
    "    L = model(T)\n",
    "    loss = tf.reduce_mean(tf.nn.softmax_cross_entropy_with_logits(labels=Tlabel, logits=L))\n",
    "    \n",
    "    # Optimizer.\n",
    "    optimizer = tf.train.GradientDescentOptimizer(init_learning_rate).minimize(loss)\n",
    "  \n",
    "    # Predictions for the training, validation, and test data.\n",
    "    train_predictions = tf.nn.softmax(model(T, dropout = False))\n",
    "    valid_predictions = tf.nn.softmax(model(V, dropout = False))\n",
    "    test_predictions = tf.nn.softmax(model(E, dropout = False))"
   ]
  },
  {
   "cell_type": "code",
   "execution_count": 27,
   "metadata": {},
   "outputs": [
    {
     "name": "stdout",
     "output_type": "stream",
     "text": [
      "Initialized\n",
      "Iteration: 0\n",
      "loss = 3.292928, training accuracy = 0.0%, validation accuracy = 9.7%.\n",
      "Iteration: 1000\n",
      "loss = 0.578934, training accuracy = 68.8%, validation accuracy = 84.4%.\n",
      "Iteration: 2000\n",
      "loss = 0.617082, training accuracy = 93.8%, validation accuracy = 93.9%.\n",
      "Iteration: 3000\n",
      "loss = 0.021760, training accuracy = 100.0%, validation accuracy = 95.0%.\n",
      "Iteration: 4000\n",
      "loss = 0.027779, training accuracy = 100.0%, validation accuracy = 96.0%.\n",
      "Iteration: 5000\n",
      "loss = 0.047241, training accuracy = 100.0%, validation accuracy = 96.2%.\n",
      "Iteration: 6000\n",
      "loss = 0.259676, training accuracy = 93.8%, validation accuracy = 96.4%.\n",
      "Iteration: 7000\n",
      "loss = 0.069597, training accuracy = 100.0%, validation accuracy = 96.2%.\n",
      "Iteration: 8000\n",
      "loss = 0.184429, training accuracy = 100.0%, validation accuracy = 96.9%.\n",
      "Iteration: 9000\n",
      "loss = 0.294641, training accuracy = 87.5%, validation accuracy = 96.7%.\n",
      "Iteration: 10000\n",
      "loss = 0.118383, training accuracy = 93.8%, validation accuracy = 96.3%.\n",
      "Iteration: 11000\n",
      "loss = 0.070614, training accuracy = 100.0%, validation accuracy = 97.4%.\n",
      "Iteration: 12000\n",
      "loss = 0.060742, training accuracy = 100.0%, validation accuracy = 97.1%.\n",
      "Iteration: 13000\n",
      "loss = 0.012518, training accuracy = 100.0%, validation accuracy = 97.3%.\n",
      "Iteration: 14000\n",
      "loss = 0.652468, training accuracy = 93.8%, validation accuracy = 97.4%.\n",
      "Iteration: 15000\n",
      "loss = 0.003363, training accuracy = 100.0%, validation accuracy = 97.3%.\n",
      "Iteration: 16000\n",
      "loss = 0.059231, training accuracy = 100.0%, validation accuracy = 97.0%.\n",
      "Iteration: 17000\n",
      "loss = 0.349828, training accuracy = 93.8%, validation accuracy = 97.2%.\n",
      "Iteration: 18000\n",
      "loss = 0.034435, training accuracy = 100.0%, validation accuracy = 97.3%.\n",
      "Iteration: 19000\n",
      "loss = 0.166014, training accuracy = 93.8%, validation accuracy = 97.5%.\n",
      "Test accuracy: 97.9%\n"
     ]
    }
   ],
   "source": [
    "number_of_iterations = 20000\n",
    "\n",
    "with tf.Session(graph=CNN_graph) as session:\n",
    "    tf.global_variables_initializer().run()\n",
    "    print('Initialized')\n",
    "    for iteration in range(number_of_iterations):\n",
    "        # Generate batch.\n",
    "        offset = (iteration * batch_size) % (train_labels.shape[0] - batch_size)\n",
    "        batch_data = train_images_CNN[offset:(offset + batch_size), :, :, :]\n",
    "        batch_labels = train_labels[offset:(offset + batch_size), :]\n",
    "    \n",
    "        # Run model.\n",
    "        feed_dict = {T : batch_data, Tlabel : batch_labels}\n",
    "        _, l, train_predict = session.run([optimizer, loss, train_predictions], feed_dict=feed_dict)\n",
    "        if (iteration % 1000) == 0:\n",
    "            print('Iteration: %d' % iteration)\n",
    "            print('loss = %f' % l, end = \", \")\n",
    "            train_acc = accuracy(train_predict, batch_labels)\n",
    "            print('training accuracy = %.1f%%' % train_acc, end = \", \")\n",
    "            valid_acc = accuracy(valid_predictions.eval(), valid_labels)\n",
    "            print('validation accuracy = %.1f%%.' % valid_acc)\n",
    "    print('Test accuracy: %.1f%%' % accuracy(test_predictions.eval(), test_labels))\n",
    "  "
   ]
  }
 ],
 "metadata": {
  "kernelspec": {
   "display_name": "Python 3",
   "language": "python",
   "name": "python3"
  },
  "language_info": {
   "codemirror_mode": {
    "name": "ipython",
    "version": 3
   },
   "file_extension": ".py",
   "mimetype": "text/x-python",
   "name": "python",
   "nbconvert_exporter": "python",
   "pygments_lexer": "ipython3",
   "version": "3.6.7"
  }
 },
 "nbformat": 4,
 "nbformat_minor": 2
}
