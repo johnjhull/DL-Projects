{
 "cells": [
  {
   "cell_type": "markdown",
   "metadata": {},
   "source": [
    "# Concise Text Classification Prototype\n",
    "\n",
    "### Objective: \n",
    "\n",
    "Classify text for potential action in the setting of ambiguous representations, succinctness, and restricted, domain-specific vocabulary. \n",
    "\n",
    "### Methods: \n",
    "\n",
    "* Internal corpus embedding (Word2Vec)\n",
    "* LSTM classifier architectures:\n",
    "    1. Many-to-one; \n",
    "    2. Bidirectional Many-to-One.\n",
    "\n",
    "### Prototype Dataset: \n",
    "\n",
    "* Description: Medical notes collected at a call center for ticketing/handling purposes.\n",
    "* Location: Kaggle [(link here)](https://www.kaggle.com/jsreddy79/text-classification-supervised-learning#TextClassification_Data.csv)."
   ]
  },
  {
   "cell_type": "markdown",
   "metadata": {},
   "source": [
    "## Modules:"
   ]
  },
  {
   "cell_type": "code",
   "execution_count": 1,
   "metadata": {},
   "outputs": [],
   "source": [
    "import pandas as pd\n",
    "import csv\n",
    "import collections\n",
    "import matplotlib.pyplot as plt\n",
    "from matplotlib import pylab\n",
    "import numpy as np\n",
    "import random\n",
    "import math\n",
    "import string\n",
    "import itertools\n",
    "import tensorflow as tf\n",
    "from sklearn.manifold import TSNE\n",
    "import time\n",
    "import copy"
   ]
  },
  {
   "cell_type": "markdown",
   "metadata": {},
   "source": [
    "## Data Import/Initial Processing:\n",
    "\n",
    "Note: `encoding = \"ISO-8859-1\"` in `pd.read_csv` deals with UTF encoding errors. "
   ]
  },
  {
   "cell_type": "code",
   "execution_count": 2,
   "metadata": {},
   "outputs": [
    {
     "data": {
      "text/html": [
       "<div>\n",
       "<style scoped>\n",
       "    .dataframe tbody tr th:only-of-type {\n",
       "        vertical-align: middle;\n",
       "    }\n",
       "\n",
       "    .dataframe tbody tr th {\n",
       "        vertical-align: top;\n",
       "    }\n",
       "\n",
       "    .dataframe thead th {\n",
       "        text-align: right;\n",
       "    }\n",
       "</style>\n",
       "<table border=\"1\" class=\"dataframe\">\n",
       "  <thead>\n",
       "    <tr style=\"text-align: right;\">\n",
       "      <th></th>\n",
       "      <th>fileid</th>\n",
       "      <th>SUMMARY</th>\n",
       "      <th>DATA</th>\n",
       "      <th>categories</th>\n",
       "      <th>sub_categories</th>\n",
       "      <th>previous_appointment</th>\n",
       "      <th>ID</th>\n",
       "    </tr>\n",
       "  </thead>\n",
       "  <tbody>\n",
       "    <tr>\n",
       "      <th>0</th>\n",
       "      <td>2015561331001</td>\n",
       "      <td>Pt aware that he needs ROV for refill</td>\n",
       "      <td>{\\rtf1\\ansi\\ftnbj{\\fonttbl{\\f0 \\fswiss Arial;}...</td>\n",
       "      <td>PRESCRIPTION</td>\n",
       "      <td>REFILL</td>\n",
       "      <td>No</td>\n",
       "      <td>2015_5_6133_1001</td>\n",
       "    </tr>\n",
       "    <tr>\n",
       "      <th>1</th>\n",
       "      <td>2015561341001</td>\n",
       "      <td>Mom wants to know if the Focalin needs some do...</td>\n",
       "      <td>{\\rtf1\\ansi\\ftnbj{\\fonttbl{\\f0 \\fswiss Arial;}...</td>\n",
       "      <td>ASK_A_DOCTOR</td>\n",
       "      <td>MEDICATION RELATED</td>\n",
       "      <td>No</td>\n",
       "      <td>2015_5_6134_1001</td>\n",
       "    </tr>\n",
       "    <tr>\n",
       "      <th>2</th>\n",
       "      <td>2015561351001</td>\n",
       "      <td>pt called to discuss nortryptiline. she says s...</td>\n",
       "      <td>xxxx-xxxx\\f0 \\fswiss Arial;}}{\\colortbl ;\\red2...</td>\n",
       "      <td>ASK_A_DOCTOR</td>\n",
       "      <td>MEDICATION RELATED</td>\n",
       "      <td>No</td>\n",
       "      <td>2015_5_6135_1001</td>\n",
       "    </tr>\n",
       "    <tr>\n",
       "      <th>3</th>\n",
       "      <td>2015561361001</td>\n",
       "      <td>FYI Nortryptline medication.</td>\n",
       "      <td>xxxx-xxxx\\f0 \\fswiss Arial;}}{\\colortbl ;\\red2...</td>\n",
       "      <td>MISCELLANEOUS</td>\n",
       "      <td>OTHERS</td>\n",
       "      <td>No</td>\n",
       "      <td>2015_5_6136_1001</td>\n",
       "    </tr>\n",
       "    <tr>\n",
       "      <th>4</th>\n",
       "      <td>2015561371001</td>\n",
       "      <td>Letter of patient establishment request</td>\n",
       "      <td>{\\rtf1\\ansi\\ftnbj{\\fonttbl{\\f0 \\fswiss Arial;}...</td>\n",
       "      <td>MISCELLANEOUS</td>\n",
       "      <td>SHARING OF HEALTH RECORDS (FAX, E-MAIL, ETC.)</td>\n",
       "      <td>No</td>\n",
       "      <td>2015_5_6137_1001</td>\n",
       "    </tr>\n",
       "  </tbody>\n",
       "</table>\n",
       "</div>"
      ],
      "text/plain": [
       "          fileid                                            SUMMARY  \\\n",
       "0  2015561331001              Pt aware that he needs ROV for refill   \n",
       "1  2015561341001  Mom wants to know if the Focalin needs some do...   \n",
       "2  2015561351001  pt called to discuss nortryptiline. she says s...   \n",
       "3  2015561361001                       FYI Nortryptline medication.   \n",
       "4  2015561371001            Letter of patient establishment request   \n",
       "\n",
       "                                                DATA     categories  \\\n",
       "0  {\\rtf1\\ansi\\ftnbj{\\fonttbl{\\f0 \\fswiss Arial;}...   PRESCRIPTION   \n",
       "1  {\\rtf1\\ansi\\ftnbj{\\fonttbl{\\f0 \\fswiss Arial;}...   ASK_A_DOCTOR   \n",
       "2  xxxx-xxxx\\f0 \\fswiss Arial;}}{\\colortbl ;\\red2...   ASK_A_DOCTOR   \n",
       "3  xxxx-xxxx\\f0 \\fswiss Arial;}}{\\colortbl ;\\red2...  MISCELLANEOUS   \n",
       "4  {\\rtf1\\ansi\\ftnbj{\\fonttbl{\\f0 \\fswiss Arial;}...  MISCELLANEOUS   \n",
       "\n",
       "                                  sub_categories previous_appointment  \\\n",
       "0                                         REFILL                   No   \n",
       "1                             MEDICATION RELATED                   No   \n",
       "2                             MEDICATION RELATED                   No   \n",
       "3                                         OTHERS                   No   \n",
       "4  SHARING OF HEALTH RECORDS (FAX, E-MAIL, ETC.)                   No   \n",
       "\n",
       "                 ID  \n",
       "0  2015_5_6133_1001  \n",
       "1  2015_5_6134_1001  \n",
       "2  2015_5_6135_1001  \n",
       "3  2015_5_6136_1001  \n",
       "4  2015_5_6137_1001  "
      ]
     },
     "execution_count": 2,
     "metadata": {},
     "output_type": "execute_result"
    }
   ],
   "source": [
    "pre_data = pd.read_csv('Text_Class_Prototype//TextClassification_Data.csv', encoding = \"ISO-8859-1\")\n",
    "pre_data.head()"
   ]
  },
  {
   "cell_type": "markdown",
   "metadata": {},
   "source": [
    "Reduce dataset to text and action category, drop unecessary data points and fix category errors. "
   ]
  },
  {
   "cell_type": "code",
   "execution_count": 3,
   "metadata": {},
   "outputs": [
    {
     "data": {
      "text/html": [
       "<div>\n",
       "<style scoped>\n",
       "    .dataframe tbody tr th:only-of-type {\n",
       "        vertical-align: middle;\n",
       "    }\n",
       "\n",
       "    .dataframe tbody tr th {\n",
       "        vertical-align: top;\n",
       "    }\n",
       "\n",
       "    .dataframe thead th {\n",
       "        text-align: right;\n",
       "    }\n",
       "</style>\n",
       "<table border=\"1\" class=\"dataframe\">\n",
       "  <thead>\n",
       "    <tr style=\"text-align: right;\">\n",
       "      <th></th>\n",
       "      <th>SUMMARY</th>\n",
       "      <th>categories</th>\n",
       "    </tr>\n",
       "  </thead>\n",
       "  <tbody>\n",
       "    <tr>\n",
       "      <th>0</th>\n",
       "      <td>Pt aware that he needs ROV for refill</td>\n",
       "      <td>PRESCRIPTION</td>\n",
       "    </tr>\n",
       "    <tr>\n",
       "      <th>1</th>\n",
       "      <td>Mom wants to know if the Focalin needs some do...</td>\n",
       "      <td>ASK_A_DOCTOR</td>\n",
       "    </tr>\n",
       "    <tr>\n",
       "      <th>2</th>\n",
       "      <td>pt called to discuss nortryptiline. she says s...</td>\n",
       "      <td>ASK_A_DOCTOR</td>\n",
       "    </tr>\n",
       "    <tr>\n",
       "      <th>3</th>\n",
       "      <td>FYI Nortryptline medication.</td>\n",
       "      <td>MISCELLANEOUS</td>\n",
       "    </tr>\n",
       "    <tr>\n",
       "      <th>4</th>\n",
       "      <td>Letter of patient establishment request</td>\n",
       "      <td>MISCELLANEOUS</td>\n",
       "    </tr>\n",
       "  </tbody>\n",
       "</table>\n",
       "</div>"
      ],
      "text/plain": [
       "                                             SUMMARY     categories\n",
       "0              Pt aware that he needs ROV for refill   PRESCRIPTION\n",
       "1  Mom wants to know if the Focalin needs some do...   ASK_A_DOCTOR\n",
       "2  pt called to discuss nortryptiline. she says s...   ASK_A_DOCTOR\n",
       "3                       FYI Nortryptline medication.  MISCELLANEOUS\n",
       "4            Letter of patient establishment request  MISCELLANEOUS"
      ]
     },
     "execution_count": 3,
     "metadata": {},
     "output_type": "execute_result"
    }
   ],
   "source": [
    "pre_data = pre_data[['SUMMARY', 'categories']].dropna()\n",
    "pre_data.head()"
   ]
  },
  {
   "cell_type": "code",
   "execution_count": 4,
   "metadata": {},
   "outputs": [
    {
     "name": "stdout",
     "output_type": "stream",
     "text": [
      "Counter({'PRESCRIPTION': 14500, 'APPOINTMENTS': 12960, 'ASK_A_DOCTOR': 11743, 'MISCELLANEOUS': 10460, 'LAB': 4246, 'JUNK': 20, 'mISCELLANEOUS': 3, 'asK_A_DOCTOR': 1})\n"
     ]
    }
   ],
   "source": [
    "print(collections.Counter(pre_data['categories']))"
   ]
  },
  {
   "cell_type": "code",
   "execution_count": 5,
   "metadata": {},
   "outputs": [
    {
     "name": "stdout",
     "output_type": "stream",
     "text": [
      "Counter({'PRESCRIPTION': 14500, 'APPOINTMENTS': 12960, 'ASK_A_DOCTOR': 11744, 'MISCELLANEOUS': 10463, 'LAB': 4246})\n"
     ]
    }
   ],
   "source": [
    "def fix(data_frame):\n",
    "    junk_list = list(data_frame[data_frame['categories'] == 'JUNK'].index)\n",
    "    data_frame = data_frame.drop(junk_list, axis = 0)\n",
    "    data_frame = data_frame.replace(['mISCELLANEOUS', 'asK_A_DOCTOR'], ['MISCELLANEOUS','ASK_A_DOCTOR'])\n",
    "    return data_frame\n",
    "\n",
    "pre_data = fix(pre_data)\n",
    "print(collections.Counter(pre_data['categories']))"
   ]
  },
  {
   "cell_type": "markdown",
   "metadata": {},
   "source": [
    "## Data Balancing:\n",
    "\n",
    "Randomly upsample (generally with replacement) either to the maximum representation or with a linear regression. \n",
    "\n",
    "#### Important Note:\n",
    "\n",
    "The upsampling is executed prior to the embedding, which might effect representation geometry in a positive or negative manner. "
   ]
  },
  {
   "cell_type": "code",
   "execution_count": 6,
   "metadata": {},
   "outputs": [
    {
     "name": "stdout",
     "output_type": "stream",
     "text": [
      "=====================\n",
      "Counter({'PRESCRIPTION': 14500, 'ASK_A_DOCTOR': 14500, 'MISCELLANEOUS': 14500, 'APPOINTMENTS': 14500, 'LAB': 14500})\n",
      "=====================\n",
      "=====================\n",
      "Counter({'PRESCRIPTION': 14500, 'APPOINTMENTS': 12960, 'ASK_A_DOCTOR': 11744, 'MISCELLANEOUS': 10463, 'LAB': 6181})\n",
      "=====================\n"
     ]
    }
   ],
   "source": [
    "def max_balance(data_frame, class_key):\n",
    "    out_data_frame = copy.deepcopy(data_frame)\n",
    "    class_counter = collections.Counter(out_data_frame[class_key])\n",
    "    class_max = class_counter[max(class_counter)]\n",
    "    for key in class_counter.keys():\n",
    "        difference = class_max - class_counter[key]\n",
    "        if difference > 0:\n",
    "            sample_data = out_data_frame[out_data_frame[class_key] == key].sample(n = difference, replace = True)\n",
    "            out_data_frame = out_data_frame.append(sample_data, ignore_index = True)\n",
    "    return out_data_frame\n",
    "\n",
    "test_max_balance = max_balance(pre_data, class_key = 'categories')\n",
    "print('=====================')\n",
    "print(collections.Counter(test_max_balance['categories']))\n",
    "print('=====================')\n",
    "del test_max_balance\n",
    "\n",
    "def simple_list_regression(list_of_values):\n",
    "    list_of_values.sort()\n",
    "    y = list_of_values\n",
    "    x_n = len(y)-1\n",
    "    x_bar = x_n/2\n",
    "    y_bar = sum(y)/len(y)\n",
    "    beta_numerator = sum([(i - x_bar)*(y[i]-y_bar) for i in range(len(y))])\n",
    "    beta_denominator = sum([(i-x_bar)*(i-x_bar) for i in range(len(y))])\n",
    "    beta = beta_numerator/beta_denominator\n",
    "    alpha = y_bar - beta*x_bar\n",
    "    return (alpha, beta)\n",
    "\n",
    "def regression_balance(data_frame, \n",
    "                       class_key = False, \n",
    "                       upsample = True, \n",
    "                       downsample = False,\n",
    "                       halt_after_intersect = True,\n",
    "                       randomize_output = True, \n",
    "                       replace = True,\n",
    "                       random_state = None):\n",
    "    assert class_key, 'regression_balance: You must specify a class key.'\n",
    "    out_data_frame = copy.deepcopy(data_frame)\n",
    "    class_counter = collections.Counter(out_data_frame[class_key])\n",
    "    count_keys = list(class_counter.keys())\n",
    "    count_keys.reverse()\n",
    "    count_list = list(class_counter.values())\n",
    "    count_list.reverse()\n",
    "    reg_coeff = simple_list_regression(count_list)\n",
    "    intersect = 0\n",
    "    for i in range(len(count_keys)):\n",
    "        key = count_keys[i]\n",
    "        difference = int(math.floor(reg_coeff[1]*i+reg_coeff[0]))-count_list[i]\n",
    "        if difference > 0 and upsample and intersect == 0:\n",
    "            sample_data = out_data_frame[out_data_frame[class_key] == key].sample(n = difference, replace = replace, \n",
    "                                                                          random_state = random_state)\n",
    "            out_data_frame = out_data_frame.append(sample_data, ignore_index = True)\n",
    "        elif difference == 0:\n",
    "            continue\n",
    "        elif difference < 0:\n",
    "            if halt_after_intersect:\n",
    "                intersect += 1\n",
    "            if downsample:\n",
    "                sample_data = out_data_frame[out_data_frame[class_key] == key].sample(n = -difference, replace = False, \n",
    "                                                                          random_state = random_state)\n",
    "                drop_indices = list(sample_data.index)\n",
    "                out_data_frame = out_data_frame.drop(drop_indices, axis = 0)\n",
    "    if randomize_output:\n",
    "        out_data_frame = out_data_frame.sample(frac=1).reset_index(drop=True)\n",
    "    return out_data_frame\n",
    "\n",
    "test_reg_balance = regression_balance(pre_data, class_key = 'categories')\n",
    "print('=====================')\n",
    "print(collections.Counter(test_reg_balance['categories']))\n",
    "print('=====================')\n",
    "del test_reg_balance"
   ]
  },
  {
   "cell_type": "markdown",
   "metadata": {},
   "source": [
    "#### Illustration of Regression Balancing:"
   ]
  },
  {
   "cell_type": "code",
   "execution_count": 7,
   "metadata": {},
   "outputs": [
    {
     "name": "stdout",
     "output_type": "stream",
     "text": [
      "Regression Coefficients: (intercept, slope) = (6181.6, 2300.5)\n"
     ]
    },
    {
     "data": {
      "image/png": "[encoded data removed]",
      "text/plain": [
       "<Figure size 432x288 with 1 Axes>"
      ]
     },
     "metadata": {
      "needs_background": "light"
     },
     "output_type": "display_data"
    }
   ],
   "source": [
    "# Plot of regression line and original class counts. \n",
    "\n",
    "original_class_counts = list(collections.Counter(pre_data['categories']).values())\n",
    "original_reg_coeff = simple_list_regression(original_class_counts)\n",
    "print('Regression Coefficients: (intercept, slope) = '+ str(original_reg_coeff))\n",
    "def f(x):\n",
    "    return original_reg_coeff[1]*x + original_reg_coeff[0]\n",
    "\n",
    "fig = plt.figure()\n",
    "ax = plt.axes()\n",
    "x = np.linspace(0, len(original_class_counts), 1000)\n",
    "ax.plot(x, f(x))\n",
    "\n",
    "original_class_counts.sort()\n",
    "plt.plot(range(len(original_class_counts)), original_class_counts, 'ro')\n",
    "plt.axis([-0.5, 4.5, 0, max(original_class_counts) + 1000])\n",
    "plt.show()"
   ]
  },
  {
   "cell_type": "code",
   "execution_count": 8,
   "metadata": {},
   "outputs": [],
   "source": [
    "balanced_data = regression_balance(pre_data, class_key = 'categories')"
   ]
  },
  {
   "cell_type": "code",
   "execution_count": 9,
   "metadata": {},
   "outputs": [
    {
     "data": {
      "image/png": "[encoded data removed]",
      "text/plain": [
       "<Figure size 432x288 with 1 Axes>"
      ]
     },
     "metadata": {
      "needs_background": "light"
     },
     "output_type": "display_data"
    }
   ],
   "source": [
    "# Plot of regression line and balanced class counts. \n",
    "\n",
    "class_counts = list(collections.Counter(balanced_data['categories']).values())\n",
    "\n",
    "def f(x):\n",
    "    return original_reg_coeff[1]*x + original_reg_coeff[0]\n",
    "\n",
    "fig = plt.figure()\n",
    "ax = plt.axes()\n",
    "x = np.linspace(0, 4, 1000)\n",
    "ax.plot(x, f(x))\n",
    "\n",
    "class_counts.sort()\n",
    "plt.plot(range(len(class_counts)),class_counts,'ro')\n",
    "plt.axis([-0.5, 4.5, 0, max(class_counts)+1000])\n",
    "plt.show()"
   ]
  },
  {
   "cell_type": "markdown",
   "metadata": {},
   "source": [
    "# Data Formatting"
   ]
  },
  {
   "cell_type": "code",
   "execution_count": 10,
   "metadata": {},
   "outputs": [],
   "source": [
    "data_array = balanced_data.values[...,0]\n",
    "labels_array = balanced_data.values[...,1]"
   ]
  },
  {
   "cell_type": "markdown",
   "metadata": {},
   "source": [
    "### Encoding Labels"
   ]
  },
  {
   "cell_type": "code",
   "execution_count": 11,
   "metadata": {},
   "outputs": [
    {
     "name": "stdout",
     "output_type": "stream",
     "text": [
      "Successful label encoding.\n",
      "Number of classes: 5\n",
      "Number of labels: 55848\n"
     ]
    }
   ],
   "source": [
    "def encode_labels(labels, print_stats = True):\n",
    "    unique_labels = np.unique(labels)\n",
    "    identity = (unique_labels == unique_labels[:,None]).astype(np.float32)\n",
    "    lookup_dict = dict(zip(unique_labels.tolist(), [identity[i] for i in range(identity.shape[0])]))\n",
    "    out_labels = (unique_labels == labels[:,None]).astype(np.float32)\n",
    "    def lookup_function(label):\n",
    "        return lookup_dict[label]\n",
    "    def reverse_lookup_function(encoded_label):\n",
    "        rev_look = [x for x,y in lookup_dict.items() if np.array_equal(y, encoded_label)]\n",
    "        return rev_look[0]\n",
    "    def decode_labels(encoded_label_array):\n",
    "        return np.array([reverse_lookup_function(encoded_label_array[i]) for i in range(encoded_label_array.shape[0])])\n",
    "    if print_stats:\n",
    "        if np.array_equal(decode_labels(out_labels), labels):\n",
    "            print('Successful label encoding.')\n",
    "            print('Number of classes: ' + str(unique_labels.shape[0]))\n",
    "            print('Number of labels: ' + str(out_labels.shape[0]))\n",
    "        else:\n",
    "            print('Bijection failure.')\n",
    "    return out_labels, lookup_function, reverse_lookup_function, decode_labels\n",
    "\n",
    "labels, label2vec, vec2label, decode_labels = encode_labels(labels_array)"
   ]
  },
  {
   "cell_type": "markdown",
   "metadata": {},
   "source": [
    "## Word Embedding: Internal Corpus Word2Vec"
   ]
  },
  {
   "cell_type": "markdown",
   "metadata": {},
   "source": [
    "### Corpus Construction and Frequency Encoding"
   ]
  },
  {
   "cell_type": "code",
   "execution_count": 12,
   "metadata": {},
   "outputs": [
    {
     "name": "stdout",
     "output_type": "stream",
     "text": [
      "418606 instances across 10763 distinct.\n",
      "100 most common words: {'[..end..]': 55848, '/': 17813, 'to': 11921, 'pt': 11106, 'rx': 8695, '-': 8279, '.': 6853, ',': 5699, 'for': 5690, 'appt': 4666, ':': 4628, 'phone': 4080, 'request': 4070, 'note': 4000, 'refill': 3705, 'on': 3471, 'mri': 3425, 'call': 3261, '15': 3145, 'with': 3114, 'and': 3050, 'results': 3014, 'in': 2491, 'rov': 2311, 'a': 2166, 'dr': 2104, \"'s\": 2048, 'of': 2038, 'please': 1864, 'mom': 1691, 'clld': 1623, 'the': 1616, '?': 1601, 'from': 1581, 'order': 1485, 'scheduled': 1428, 'patient': 1417, 'w': 1404, 'called': 1394, 'needs': 1391, 'about': 1383, '1': 1361, 'is': 1282, 'calling': 1282, '2015': 1280, 'new': 1275, 'rn': 1247, '2': 1234, 'like': 1205, 'at': 1200, '3': 1186, 'would': 1173, 'requesting': 1107, 'add': 1105, '@': 1104, 'work': 1071, 'pa': 1070, 'wants': 1064, 'today': 1039, 'not': 1005, 'pls': 987, 'faxed': 982, 'need': 981, 'discuss': 959, 'records': 956, 'sch': 947, '6': 946, '4': 936, 'referral': 931, 'mg': 924, 'eeg': 924, '5': 919, 'cb': 913, 'has': 885, '10': 879, 'sleep': 871, 'med': 863, 'lab': 861, 'rna': 848, 'back': 835, 'schedule': 820, 'advise': 817, 'be': 813, '&': 809, 'iov': 802, '7': 800, 'fyi': 775, '30': 772, 'will': 762, 'hydrocodone': 754, 'letter': 746, 's': 738, 'her': 725, 'study': 720, 're': 719, 'pharmacy': 711, 'pain': 708, 'status': 705, 'r': 694, 'late': 684}\n"
     ]
    }
   ],
   "source": [
    "stop_list = [\".\",\",\",\"!\",\"?\",\":\",\";\",\"/\",\"(\",\")\",\"-\", \"\\ufeff\", \"\\\"\", \"\\'s\"]\n",
    "measurements = [\"mg\", \"cc\", \"lb\", \"lbs\", \"kg\", \"kgs\"]\n",
    "end_signature = '[..end..]'\n",
    "\n",
    "# Owed: use number before 'mg' and space after to split 'mg' from drug measurements.\n",
    "\n",
    "def format_string(string):\n",
    "    global stop_list\n",
    "    global measurements\n",
    "    for item in stop_list:\n",
    "        string = string.replace(item, \" \" + item + \" \")\n",
    "    for item in measurements:\n",
    "        if item in string:\n",
    "            index = string.find(item)\n",
    "            if ord(string[index - 1]) in range(48,58):\n",
    "                string = string[:index] + \" \" + string[index:]\n",
    "    return string.lower()\n",
    "\n",
    "def strings2list(column, report = True, n_most_common = 20):\n",
    "    # input: 1D numpy array of strings.\n",
    "    # output: list of words, spaced punctuation, and end token.\n",
    "    global end_signature\n",
    "    out_list = []\n",
    "    for i in range(column.shape[0]):\n",
    "        if isinstance(column[i], str):\n",
    "            instance_list = format_string(column[i]).split() + [end_signature]\n",
    "            out_list = out_list + instance_list\n",
    "        else:\n",
    "            print('Entry not a string at index ' + str(i))\n",
    "    frequency_dictionary = collections.Counter(out_list)\n",
    "    dictionary = dict()\n",
    "    for word, _ in frequency_dictionary.most_common():\n",
    "        dictionary[word] = len(dictionary) \n",
    "    def print_stats():\n",
    "        print(str(len(out_list)) + \" instances across \" + str(len(frequency_dictionary)) + \" distinct.\")\n",
    "        print(\"%d most common words: \" % n_most_common, end = \"\")\n",
    "        print(dict(frequency_dictionary.most_common(n_most_common)))\n",
    "    if report:\n",
    "        print_stats()\n",
    "    reverse_dictionary = dict(zip(dict(dictionary).values(), dict(dictionary).keys()))\n",
    "    return out_list, dictionary, reverse_dictionary, dict(frequency_dictionary)\n",
    "\n",
    "words_list, dictionary, reverse_dictionary, frequency_dictionary = strings2list(data_array, n_most_common = 100)"
   ]
  },
  {
   "cell_type": "markdown",
   "metadata": {},
   "source": [
    "Note: Although the corpus is not large, meaningful relationships are obtained; however, a larger corpus would be needed beyond the closed classification problem for unexpected values. "
   ]
  },
  {
   "cell_type": "code",
   "execution_count": 13,
   "metadata": {},
   "outputs": [
    {
     "name": "stdout",
     "output_type": "stream",
     "text": [
      "fyi hospital admit [..end..] sent med release to obtain prior sleep studys . . bc [..end..] 7 - 15 pt wants recent mri brain results [..end..] pt mom req to s / w rn [..end..] pt would like a cb [..end..] carbanazepine please advise . [..end..] rx for ampyra 10 mg xr , fax #877 - 231 - 8302 [..end..] pt on gilenya ; she has some questions concerning med side effect [..end..] please call patient regarding mri report [..end..] ha and maxalt rx [..end..] triage : pt is having a hard time breathing with guanfacine [..end..] pt advises she "
     ]
    }
   ],
   "source": [
    "numerically_encoded_corpus = [dictionary[word] for word in words_list]\n",
    "for number in numerically_encoded_corpus[:100]:\n",
    "    print(reverse_dictionary[number], end = \" \")\n",
    "del words_list"
   ]
  },
  {
   "cell_type": "markdown",
   "metadata": {},
   "source": [
    "## Embedding Model\n",
    "\n",
    "Skip-gram (5) Word2Vec model with end-acknowledging modification for noise reduction. "
   ]
  },
  {
   "cell_type": "markdown",
   "metadata": {},
   "source": [
    "### Batch Generator:"
   ]
  },
  {
   "cell_type": "code",
   "execution_count": 14,
   "metadata": {},
   "outputs": [
    {
     "name": "stdout",
     "output_type": "stream",
     "text": [
      "fyi hospital admit [..end..] sent med release to obtain prior  \n",
      "[  86   86  348  348 1812 1812    0  110  110   76   76   76]\n",
      "[[ 348]\n",
      " [1812]\n",
      " [  86]\n",
      " [1812]\n",
      " [ 348]\n",
      " [  86]\n",
      " [   0]\n",
      " [  76]\n",
      " [ 481]\n",
      " [ 110]\n",
      " [ 481]\n",
      " [   2]]\n",
      "Batch 1: ['fyi', 'fyi', 'hospital', 'hospital', 'admit', 'admit', '[..end..]', 'sent', 'sent', 'med', 'med', 'med']\n",
      "Label 1: ['hospital', 'admit', 'fyi', 'admit', 'hospital', 'fyi', '[..end..]', 'med', 'release', 'sent', 'release', 'to']\n"
     ]
    }
   ],
   "source": [
    "data_index = 0\n",
    "left_right_index = [0,0]\n",
    "subsample_words = []\n",
    "\n",
    "def subsample_keep_probability(frequency_ratio, parameter = 0.001):\n",
    "    return min(1, (math.sqrt(frequency_ratio/parameter)+1))\n",
    "\n",
    "def generate_batch_end_acknowledging_skipgram(corpus, \n",
    "                                              batch_size = None, \n",
    "                                              n_left = 2, \n",
    "                                              n_right = 2,\n",
    "                                              subsample = True):\n",
    "    global end_signature\n",
    "    global data_index\n",
    "    global left_right_index\n",
    "    global subsample_words\n",
    "    corpus_size = len(corpus)\n",
    "    assert isinstance(batch_size, int), \"Batch Generator: You must specify a batch size.\"\n",
    "    batch = np.ndarray(shape=(batch_size), dtype = np.int32)\n",
    "    labels = np.ndarray(shape=(batch_size,1), dtype = np.int32)\n",
    "    record_position = 0\n",
    "    word_recorded = False\n",
    "    corpus_size = len(corpus)\n",
    "    while record_position < batch_size:\n",
    "        if subsample and corpus[data_index] in subsample_words:\n",
    "            data_index = (data_index + 1) % corpus_size\n",
    "            continue\n",
    "        # Record end signature with identity and move on.\n",
    "        if corpus[data_index] == dictionary[end_signature]:\n",
    "            batch[record_position] = corpus[data_index]\n",
    "            labels[record_position] = corpus[data_index]\n",
    "            record_position += 1\n",
    "            data_index = (data_index + 1) % corpus_size\n",
    "            word_recorded = False\n",
    "            continue\n",
    "            \n",
    "        # Look left.\n",
    "        for i in range(left_right_index[0], n_left):\n",
    "            if record_position == batch_size:\n",
    "                break\n",
    "            if corpus[data_index - 1 - i] == dictionary[end_signature]:\n",
    "                break\n",
    "            if subsample == True and corpus[data_index-1-i] in subsample_words:\n",
    "                continue\n",
    "            else:\n",
    "                batch[record_position] = corpus[data_index]\n",
    "                labels[record_position] = corpus[data_index - 1 - i]\n",
    "                word_recorded = True\n",
    "                left_right_index[0] += 1\n",
    "                record_position += 1\n",
    "                \n",
    "        # Look right.\n",
    "        for i in range(left_right_index[1], n_right):\n",
    "            # print(str(left_right_index[1])+' '+str(n_right))\n",
    "            if record_position == batch_size:\n",
    "                break\n",
    "            if corpus[data_index + 1 + i] == dictionary[end_signature]:\n",
    "                break\n",
    "            if subsample and corpus[data_index+1+i] in subsample_words:\n",
    "                continue\n",
    "            else:\n",
    "                batch[record_position] = corpus[data_index]\n",
    "                labels[record_position] = corpus[data_index + 1 + i]\n",
    "                word_recorded = True\n",
    "                left_right_index[1] += 1\n",
    "                record_position += 1\n",
    "                \n",
    "        # Record lonely word with identity. \n",
    "        if not word_recorded:\n",
    "            batch[record_position] = corpus[data_index]\n",
    "            labels[record_position] = corpus[data_index]\n",
    "            record_position += 1\n",
    "        if record_position == batch_size:\n",
    "            break\n",
    "        # Subsampling decision. \n",
    "        if subsample:\n",
    "            # Move this computation to corpus in future versions.\n",
    "            frequency_ratio = frequency_dictionary[reverse_dictionary[corpus[data_index]]]/corpus_size \n",
    "            probability = subsample_keep_probability(frequency_ratio)\n",
    "            sample = random.uniform(0,1)\n",
    "            if sample > probability:\n",
    "                subsample_words.append(corpus[data_index])\n",
    "        data_index = (data_index + 1) % corpus_size\n",
    "        word_recorded = False\n",
    "        left_right_index = [0,0]\n",
    "    return batch, labels\n",
    "\n",
    "# Batch/Label example.\n",
    "example_batch, example_labels = generate_batch_end_acknowledging_skipgram(numerically_encoded_corpus, \n",
    "                                                                          batch_size = 12)\n",
    "for i in range(10):\n",
    "    print(reverse_dictionary[numerically_encoded_corpus[i]], end = \" \")\n",
    "print(\" \")\n",
    "print(example_batch)\n",
    "print(example_labels)\n",
    "print('Batch 1: ', end = \"\")\n",
    "print([reverse_dictionary[x] for x in example_batch])\n",
    "print('Label 1: ', end = \"\")\n",
    "print([reverse_dictionary[x] for x in example_labels.reshape(12)])"
   ]
  },
  {
   "cell_type": "markdown",
   "metadata": {},
   "source": [
    "### Embedding Graph:"
   ]
  },
  {
   "cell_type": "code",
   "execution_count": 15,
   "metadata": {},
   "outputs": [
    {
     "name": "stdout",
     "output_type": "stream",
     "text": [
      "WARNING:tensorflow:From C:\\Users\\hullj\\AppData\\Local\\Continuum\\anaconda2\\envs\\py36\\lib\\site-packages\\tensorflow\\python\\ops\\nn_impl.py:1124: sparse_to_dense (from tensorflow.python.ops.sparse_ops) is deprecated and will be removed in a future version.\n",
      "Instructions for updating:\n",
      "Create a `tf.sparse.SparseTensor` and use `tf.sparse.to_dense` instead.\n"
     ]
    }
   ],
   "source": [
    "vocabulary_size = len(dictionary)\n",
    "embedding_size = 128\n",
    "number_negative_samples = 64\n",
    "batch_size = 128\n",
    "\n",
    "Word2Vec_graph = tf.Graph()\n",
    "\n",
    "with Word2Vec_graph.as_default():\n",
    "    # Input: Indices of rows to look up. \n",
    "    train_data = tf.placeholder(tf.int32, shape = [batch_size])\n",
    "    train_labels = tf.placeholder(tf.int32, shape = [batch_size,1])\n",
    "    \n",
    "    # Variables\n",
    "    embeddings = tf.Variable(tf.random_uniform([vocabulary_size, embedding_size],\n",
    "                                               minval = -1.0,\n",
    "                                               maxval = 1.0))\n",
    "    softmax_weights = tf.Variable(tf.truncated_normal([vocabulary_size, embedding_size],\n",
    "                                                      stddev = 1.0/math.sqrt(embedding_size)))\n",
    "    softmax_biases = tf.Variable(tf.zeros([vocabulary_size]))\n",
    "    \n",
    "    # Model.\n",
    "    embed = tf.nn.embedding_lookup(embeddings, train_data)\n",
    "    sampled_softmax_loss = tf.nn.sampled_softmax_loss(weights=softmax_weights, \n",
    "                               biases=softmax_biases, \n",
    "                               inputs=embed,\n",
    "                               labels=train_labels, \n",
    "                               num_sampled=number_negative_samples, \n",
    "                               num_classes=vocabulary_size)\n",
    "    \n",
    "    loss = tf.reduce_mean(sampled_softmax_loss)\n",
    "    \n",
    "    # Optimizer.\n",
    "    optimizer = tf.train.AdagradOptimizer(1.0).minimize(loss)\n",
    "    \n",
    "    # Normalized embeddings.\n",
    "    embedding_norm = tf.sqrt(tf.reduce_sum(tf.square(embeddings), 1, keepdims=True))\n",
    "    normalized_embeddings = embeddings/embedding_norm\n",
    "    \n",
    "    # (Maybe) Owed: Similarity validation."
   ]
  },
  {
   "cell_type": "markdown",
   "metadata": {},
   "source": [
    "### Embedding Session:"
   ]
  },
  {
   "cell_type": "code",
   "execution_count": 16,
   "metadata": {},
   "outputs": [
    {
     "name": "stdout",
     "output_type": "stream",
     "text": [
      "Variables Initialized\n",
      "Average loss at iteration 0: 0.003766\n",
      "Average loss at iteration 50000: 73.345253\n",
      "Average loss at iteration 100000: 66.391246\n",
      "Average loss at iteration 150000: 64.196007\n",
      "Average loss at iteration 200000: 62.948426\n",
      "Average loss at iteration 250000: 62.129673\n",
      "Average loss at iteration 300000: 61.610199\n",
      "Average loss at iteration 350000: 61.197623\n",
      "Average loss at iteration 400000: 60.920176\n",
      "Average loss at iteration 450000: 60.691292\n",
      "Average loss at iteration 500000: 60.513345\n",
      "Average loss at iteration 550000: 60.361504\n",
      "Average loss at iteration 600000: 60.214586\n",
      "Average loss at iteration 650000: 60.116266\n",
      "Average loss at iteration 700000: 60.007988\n",
      "Average loss at iteration 750000: 59.923835\n",
      "Average loss at iteration 800000: 59.851701\n",
      "Average loss at iteration 850000: 59.761616\n",
      "Average loss at iteration 900000: 59.731621\n",
      "Average loss at iteration 950000: 59.631704\n",
      "Average loss at iteration 1000000: 59.580458\n",
      "Average loss at iteration 1050000: 59.531701\n",
      "Average loss at iteration 1100000: 59.474049\n",
      "Average loss at iteration 1150000: 59.446353\n",
      "Average loss at iteration 1200000: 59.396140\n",
      "Average loss at iteration 1250000: 59.350141\n",
      "Average loss at iteration 1300000: 59.307748\n",
      "Average loss at iteration 1350000: 59.281107\n",
      "Average loss at iteration 1400000: 59.260592\n",
      "Average loss at iteration 1450000: 59.199462\n",
      "Average loss at iteration 1500000: 59.180337\n",
      "Average loss at iteration 1550000: 59.130979\n",
      "Average loss at iteration 1600000: 59.119652\n",
      "Average loss at iteration 1650000: 59.074253\n",
      "Average loss at iteration 1700000: 59.056518\n",
      "Average loss at iteration 1750000: 59.054128\n",
      "Average loss at iteration 1800000: 59.010757\n",
      "Average loss at iteration 1850000: 58.998368\n",
      "Average loss at iteration 1900000: 58.962948\n",
      "Average loss at iteration 1950000: 58.943207\n",
      "Average loss at iteration 2000000: 58.929268\n",
      "Average loss at iteration 2050000: 58.894752\n",
      "Average loss at iteration 2100000: 58.882275\n",
      "Average loss at iteration 2150000: 58.855137\n",
      "Average loss at iteration 2200000: 58.844523\n",
      "Average loss at iteration 2250000: 58.828129\n",
      "Average loss at iteration 2300000: 58.797433\n",
      "Average loss at iteration 2350000: 58.791074\n",
      "Average loss at iteration 2400000: 58.756839\n",
      "Average loss at iteration 2450000: 58.745553\n",
      "Average loss at iteration 2500000: 58.735606\n",
      "Average loss at iteration 2550000: 58.736571\n",
      "Average loss at iteration 2600000: 58.708442\n",
      "Average loss at iteration 2650000: 58.677684\n",
      "Average loss at iteration 2700000: 58.685919\n",
      "Average loss at iteration 2750000: 58.635048\n",
      "Average loss at iteration 2800000: 58.651200\n",
      "Average loss at iteration 2850000: 58.649788\n",
      "Average loss at iteration 2900000: 58.621604\n",
      "Average loss at iteration 2950000: 58.607618\n",
      "Average loss at iteration 3000000: 58.581110\n",
      "Average loss at iteration 3050000: 58.581697\n",
      "Average loss at iteration 3100000: 58.566035\n",
      "Average loss at iteration 3150000: 58.561974\n",
      "Average loss at iteration 3200000: 58.549618\n",
      "Average loss at iteration 3250000: 58.533704\n",
      "Embedding complete.\n",
      "Total time: 1.25\n"
     ]
    }
   ],
   "source": [
    "max_number_of_iterations = int(1000*len(numerically_encoded_corpus)/batch_size)\n",
    "\n",
    "with tf.Session(graph = Word2Vec_graph) as session:\n",
    "    start_time = time.time()\n",
    "    tf.global_variables_initializer().run()\n",
    "    print('Variables Initialized')\n",
    "    average_loss = 0\n",
    "    for iteration in range(max_number_of_iterations):\n",
    "        batch_data, batch_labels = generate_batch_end_acknowledging_skipgram(numerically_encoded_corpus,\n",
    "                                                                            batch_size = batch_size)\n",
    "        feed_dict = {train_data : batch_data, train_labels : batch_labels}\n",
    "        _, l = session.run([optimizer, loss], feed_dict=feed_dict)\n",
    "        average_loss += l\n",
    "        if iteration % 50000 == 0:\n",
    "            average_loss = average_loss / 50000\n",
    "            print('Average loss at iteration %d: %f' % (iteration, average_loss))\n",
    "            average_loss = 0\n",
    "    Word2Vec_embeddings = normalized_embeddings.eval()\n",
    "    print('Embedding complete.')\n",
    "    end_time = time.time()\n",
    "    total_time = round((end_time - start_time)/(60*60), 2)\n",
    "    print('Total time: ' + str(total_time) + \"hrs\")"
   ]
  },
  {
   "cell_type": "code",
   "execution_count": 17,
   "metadata": {},
   "outputs": [
    {
     "data": {
      "image/png": "[encoded data removed]",
      "text/plain": [
       "<Figure size 1080x1080 with 1 Axes>"
      ]
     },
     "metadata": {
      "needs_background": "light"
     },
     "output_type": "display_data"
    }
   ],
   "source": [
    "num_points = 400\n",
    "\n",
    "tsne = TSNE(perplexity=30, n_components=2, init='pca', n_iter=5000, method='exact')\n",
    "two_d_embeddings = tsne.fit_transform(Word2Vec_embeddings[1:num_points+1, :])\n",
    "\n",
    "def plot(embeddings, labels):\n",
    "    assert embeddings.shape[0] >= len(labels), 'More labels than embeddings'\n",
    "    pylab.figure(figsize=(15,15))  # in inches\n",
    "    for i, label in enumerate(labels):\n",
    "        x, y = embeddings[i,:]\n",
    "        pylab.scatter(x, y)\n",
    "        pylab.annotate(label, xy=(x, y), xytext=(5, 2), textcoords='offset points',\n",
    "                   ha='right', va='bottom')\n",
    "    pylab.show()\n",
    "\n",
    "words = [reverse_dictionary[i] for i in range(1, num_points+1)]\n",
    "plot(two_d_embeddings, words)"
   ]
  },
  {
   "cell_type": "markdown",
   "metadata": {},
   "source": [
    "# Sequence Model"
   ]
  },
  {
   "cell_type": "markdown",
   "metadata": {},
   "source": [
    "## Format Sequences for LSTM\n",
    "\n",
    "Each string formatted as array of embedding lookup indices (integers). "
   ]
  },
  {
   "cell_type": "code",
   "execution_count": 18,
   "metadata": {},
   "outputs": [],
   "source": [
    "def format_data_LSTM(data):\n",
    "    for i in range(len(data)):\n",
    "        data[i] = np.array([dictionary[x] for x in format_string(data[i]).split()])\n",
    "    return data\n",
    "\n",
    "data_array = format_data_LSTM(data_array)"
   ]
  },
  {
   "cell_type": "code",
   "execution_count": 19,
   "metadata": {},
   "outputs": [
    {
     "name": "stdout",
     "output_type": "stream",
     "text": [
      "[  86  348 1812]\n",
      "fyi hospital admit "
     ]
    }
   ],
   "source": [
    "# Ensure data is not corrupted.\n",
    "\n",
    "print(data_array[0])\n",
    "for i in range(len(data_array[0])):\n",
    "    print(reverse_dictionary[data_array[0][i]], end = \" \")"
   ]
  },
  {
   "cell_type": "markdown",
   "metadata": {},
   "source": [
    "### Sequence Padding:\n",
    "\n",
    "Sequences padded from left to prevent Many-to-one vanishing problem (failure to train). No initial truncation for fear of information loss in the setting of concise text."
   ]
  },
  {
   "cell_type": "code",
   "execution_count": 20,
   "metadata": {},
   "outputs": [
    {
     "name": "stdout",
     "output_type": "stream",
     "text": [
      "28\n"
     ]
    }
   ],
   "source": [
    "# Find max length of sequence in data.\n",
    "\n",
    "max_length = 0\n",
    "for i in range(len(data_array)):\n",
    "    if len(data_array[i]) > max_length:\n",
    "        max_length = len(data_array[i])\n",
    "print(max_length)"
   ]
  },
  {
   "cell_type": "code",
   "execution_count": 21,
   "metadata": {},
   "outputs": [],
   "source": [
    "# Add -1 to the dictionary as the null charater \"\" and modify the reverse dictionary accordingly.\n",
    "dictionary[\"\"] = -1\n",
    "reverse_dictionary[-1] = \"\""
   ]
  },
  {
   "cell_type": "code",
   "execution_count": 22,
   "metadata": {},
   "outputs": [],
   "source": [
    "# Append the 0 vector to the end of Word2Vec_embeddings so that it is referenced for Word2Vec_embeddings[-1].\n",
    "origin = np.zeros((embedding_size,))\n",
    "Word2Vec_with_origin = np.append(Word2Vec_embeddings, np.array([origin]), axis = 0)"
   ]
  },
  {
   "cell_type": "code",
   "execution_count": 23,
   "metadata": {},
   "outputs": [
    {
     "data": {
      "text/plain": [
       "array([array([  86,  348, 1812]),\n",
       "       array([ 110,   76,  481,    2, 1235,  261,   75, 5368,    6,    6,  478]),\n",
       "       array([ 85,   5,  18,   3,  57, 433,  16, 187,  21]),\n",
       "       array([  3,  29, 100,   2,  91,   1,  37,  46]),\n",
       "       array([ 3, 51, 48, 24, 72])], dtype=object)"
      ]
     },
     "execution_count": 23,
     "metadata": {},
     "output_type": "execute_result"
    }
   ],
   "source": [
    "data_array[:5]"
   ]
  },
  {
   "cell_type": "code",
   "execution_count": 24,
   "metadata": {},
   "outputs": [],
   "source": [
    "def left_padding(sequence_array):\n",
    "    global max_length\n",
    "    out_array = copy.deepcopy(sequence_array)\n",
    "    for i in range(len(out_array)):\n",
    "        difference = max_length - len(out_array[i])\n",
    "        fill = np.full((1, difference), -1, dtype=int)\n",
    "        out_array[i] = np.concatenate((fill, out_array[i]), axis = None)\n",
    "    return out_array\n",
    "\n",
    "def right_padding(sequence_array):\n",
    "    global max_length\n",
    "    out_array = copy.deepcopy(sequence_array)\n",
    "    for i in range(len(out_array)):\n",
    "        difference = max_length - len(out_array[i])\n",
    "        fill = np.full((1, difference), -1, dtype=int)\n",
    "        out_array[i] = np.concatenate((out_array[i], fill), axis = None)\n",
    "    return out_array\n",
    "\n",
    "left_padded_data = left_padding(data_array)"
   ]
  },
  {
   "cell_type": "code",
   "execution_count": 27,
   "metadata": {},
   "outputs": [
    {
     "name": "stdout",
     "output_type": "stream",
     "text": [
      "fyi hospital admit \n",
      "sent med release to obtain prior sleep studys . . bc \n",
      "7 - 15 pt wants recent mri brain results \n"
     ]
    }
   ],
   "source": [
    "# Check against corruption. \n",
    "\n",
    "for j in range(3):\n",
    "    for i in range(len(left_padded_data[j])):\n",
    "        if reverse_dictionary[left_padded_data[j][i]] != '':\n",
    "            print(reverse_dictionary[left_padded_data[j][i]], end = \" \")\n",
    "    print('')"
   ]
  },
  {
   "cell_type": "markdown",
   "metadata": {},
   "source": [
    "## Balanced Train/Valid/Test Split"
   ]
  },
  {
   "cell_type": "code",
   "execution_count": 28,
   "metadata": {},
   "outputs": [],
   "source": [
    "def train_valid_test_split(data_array, label_array, \n",
    "                           train_test_ratio = .85, \n",
    "                           train_valid_ratio = .85, \n",
    "                           shuffle_count = 7,\n",
    "                           print_shapes = True):\n",
    "    labels = np.unique(label_array, axis = 0) # An array of the distinct entry values occuring in the argument.\n",
    "    train_indices = []\n",
    "    test_indices = []\n",
    "    valid_indices = []\n",
    "    for label in labels.tolist():\n",
    "        label_indices = [i for i,x in enumerate(label_array) if np.array_equal(x, label)]\n",
    "        instance_count = len(label_indices)\n",
    "        train_test_partition = int(math.floor(train_test_ratio*instance_count))\n",
    "        random.shuffle(label_indices)\n",
    "        to_train_valid = label_indices[:train_test_partition]\n",
    "        to_test = label_indices[train_test_partition:]\n",
    "        test_indices = test_indices + to_test\n",
    "        train_valid_partition = int(math.floor(train_valid_ratio*len(to_train_valid)))\n",
    "        to_train = to_train_valid[:train_valid_partition]\n",
    "        to_valid = to_train_valid[train_valid_partition:]\n",
    "        train_indices = train_indices + to_train\n",
    "        valid_indices = valid_indices + to_valid\n",
    "    # The iterative shuffling is more an homage than a necessity, but I don't want to dig into\n",
    "    # the pseudo randomness of random.shuffle.\n",
    "    for i in range(shuffle_count):\n",
    "        random.shuffle(train_indices)\n",
    "        random.shuffle(valid_indices)\n",
    "        random.shuffle(test_indices)\n",
    "    train_data = np.stack(data_array[train_indices], axis = 0).astype(int)\n",
    "    train_labels = label_array[train_indices]\n",
    "    valid_data = np.stack(data_array[valid_indices], axis = 0).astype(int)\n",
    "    valid_labels = label_array[valid_indices]\n",
    "    test_data = np.stack(data_array[test_indices], axis = 0).astype(int)\n",
    "    test_labels = label_array[test_indices]\n",
    "    if print_shapes:\n",
    "        print(\"Train data shape: \" + str(train_data.shape))\n",
    "        print(\"Train labels shape: \" + str(train_labels.shape))\n",
    "        print(\"Valid data shape: \" + str(valid_data.shape))\n",
    "        print(\"Valid labels shape: \" + str(valid_labels.shape))\n",
    "        print(\"Test data shape: \" + str(test_data.shape))\n",
    "        print(\"Test labels shape: \" + str(test_labels.shape))\n",
    "    return train_data, train_labels, valid_data, valid_labels, test_data, test_labels"
   ]
  },
  {
   "cell_type": "code",
   "execution_count": 29,
   "metadata": {},
   "outputs": [
    {
     "name": "stdout",
     "output_type": "stream",
     "text": [
      "Train data shape: (40347, 28)\n",
      "Train labels shape: (40347, 5)\n",
      "Valid data shape: (7122, 28)\n",
      "Valid labels shape: (7122, 5)\n",
      "Test data shape: (8379, 28)\n",
      "Test labels shape: (8379, 5)\n"
     ]
    }
   ],
   "source": [
    "train_data, train_labels, valid_data, valid_labels, test_data, test_labels = train_valid_test_split(left_padded_data,\n",
    "                                                                                                    labels)"
   ]
  },
  {
   "cell_type": "markdown",
   "metadata": {},
   "source": [
    "## LSTM Model: Many-to-One"
   ]
  },
  {
   "cell_type": "markdown",
   "metadata": {},
   "source": [
    "### LSTM Batch Generator\n",
    "\n",
    "A batch is a 3-dimensional array to be unrolled along axis = 1 (columns). Numerically encoded sequence array is used to pull the Word2Vec embeddings, set along axis = 0. So in short, the batch is a matrix where each row corresponds to a sequence and each entry is a word in the sequence, but replaced by its vector embedding (100 dimensional Word2Vec representation). "
   ]
  },
  {
   "cell_type": "code",
   "execution_count": 30,
   "metadata": {},
   "outputs": [
    {
     "name": "stdout",
     "output_type": "stream",
     "text": [
      "(64, 28, 128)\n",
      "(64, 5)\n",
      "(7122, 28, 128)\n",
      "(8379, 28, 128)\n"
     ]
    }
   ],
   "source": [
    "batch_size = 64\n",
    "number_of_unrollings = max_length # Unroll the LSTM to account for longest sequence. \n",
    "number_of_classes = 5\n",
    "data_index = 0\n",
    "\n",
    "def generate_LSTM_batch(data_array, label_array, batch_size, number_of_unrollings, embedding_size):\n",
    "    global data_index\n",
    "    batch = np.zeros(shape=(batch_size, number_of_unrollings, embedding_size), dtype=np.float32)\n",
    "    labels = np.zeros(shape=(batch_size, number_of_classes), dtype=np.float32)\n",
    "    for i in range(batch_size):\n",
    "        batch[i] = Word2Vec_with_origin[data_array[data_index].astype(int)].reshape(1, number_of_unrollings, embedding_size)\n",
    "        labels[i] = label_array[data_index]\n",
    "        data_index = (data_index + 1) % len(data_array)\n",
    "    return batch, labels\n",
    "\n",
    "test_batch, test_label = generate_LSTM_batch(train_data, train_labels, batch_size, number_of_unrollings, embedding_size)\n",
    "print(test_batch.shape)\n",
    "print(test_label.shape)\n",
    "\n",
    "valid_total, valid_total_labels = generate_LSTM_batch(valid_data, valid_labels, len(valid_data), number_of_unrollings, embedding_size)\n",
    "test_total, test_total_labels = generate_LSTM_batch(test_data, test_labels, len(test_data), number_of_unrollings, embedding_size)\n",
    "print(valid_total.shape)\n",
    "print(test_total.shape)"
   ]
  },
  {
   "cell_type": "markdown",
   "metadata": {},
   "source": [
    "### LSTM Cell Math\n",
    "\n",
    "The state equation: $s_{t}=\\sigma(f)\\bigodot s_{t-1} + \\sigma(i)\\bigodot\\text{tanh}(c)$\n",
    "\n",
    "The output equation: $o_{t}=\\sigma(o)\\bigodot\\text{tanh}(s_{t})$"
   ]
  },
  {
   "cell_type": "markdown",
   "metadata": {},
   "source": [
    "### LSTM Graph:"
   ]
  },
  {
   "cell_type": "code",
   "execution_count": 31,
   "metadata": {},
   "outputs": [],
   "source": [
    "### Hyperparameters ###\n",
    "number_of_nodes = 64\n",
    "initial_learning_rate = 1.\n",
    "#######################\n",
    "\n",
    "Basic_LSTM_Mto1_graph = tf.Graph()\n",
    "with Basic_LSTM_Mto1_graph.as_default():\n",
    "    # Input\n",
    "    T = tf.placeholder(tf.float32, shape = [batch_size, number_of_unrollings, embedding_size])\n",
    "    Tlabel = tf.placeholder(tf.float32, shape = [batch_size, number_of_classes])\n",
    "    V = tf.constant(valid_total)\n",
    "    E = tf.constant(test_total)\n",
    "    # Input gate and linear opertaion.\n",
    "    X_i = tf.Variable(tf.truncated_normal([embedding_size, number_of_nodes], -0.1, 0.1))\n",
    "    M_i = tf.Variable(tf.truncated_normal([number_of_nodes, number_of_nodes], -0.1, 0.1))\n",
    "    b_i = tf.Variable(tf.zeros([1, number_of_nodes]))\n",
    "    # Forget gate and linear opertaion.\n",
    "    X_f = tf.Variable(tf.truncated_normal([embedding_size, number_of_nodes], -0.1, 0.1))\n",
    "    M_f = tf.Variable(tf.truncated_normal([number_of_nodes, number_of_nodes], -0.1, 0.1))\n",
    "    b_f = tf.Variable(tf.zeros([1, number_of_nodes]))\n",
    "    # Memory cell and linear opertaion.                             \n",
    "    X_c = tf.Variable(tf.truncated_normal([embedding_size, number_of_nodes], -0.1, 0.1))\n",
    "    M_c = tf.Variable(tf.truncated_normal([number_of_nodes, number_of_nodes], -0.1, 0.1))\n",
    "    b_c = tf.Variable(tf.zeros([1, number_of_nodes]))\n",
    "    # Output gate and linear opertaion..\n",
    "    X_o = tf.Variable(tf.truncated_normal([embedding_size, number_of_nodes], -0.1, 0.1))\n",
    "    M_o = tf.Variable(tf.truncated_normal([number_of_nodes, number_of_nodes], -0.1, 0.1))\n",
    "    b_o = tf.Variable(tf.zeros([1, number_of_nodes]))\n",
    "    # Variables saving state across unrollings.\n",
    "    saved_output = tf.Variable(tf.zeros([batch_size, number_of_nodes]), trainable=False)\n",
    "    saved_state = tf.Variable(tf.zeros([batch_size, number_of_nodes]), trainable=False)\n",
    "    # Classifier weights and biases.\n",
    "    W = tf.Variable(tf.truncated_normal([number_of_nodes, number_of_classes], -0.1, 0.1))\n",
    "    b = tf.Variable(tf.zeros([number_of_classes]))\n",
    "    \n",
    "    # Note: in LSTM cell, a sequence_element is batch_size many words at a time step in parallel. \n",
    "    def Basic_LSTM_cell(sequence_element, previous_output, state):\n",
    "        input_gate = tf.sigmoid(tf.matmul(sequence_element, X_i) + tf.matmul(previous_output, M_i) + b_i)\n",
    "        forget_gate = tf.sigmoid(tf.matmul(sequence_element, X_f) + tf.matmul(previous_output, M_f) + b_f)\n",
    "        update = tf.matmul(sequence_element, X_c) + tf.matmul(previous_output, M_c) + b_c\n",
    "        state = forget_gate * state + input_gate * tf.tanh(update)\n",
    "        output_gate = tf.sigmoid(tf.matmul(sequence_element, X_o) + tf.matmul(previous_output, M_o) + b_o)\n",
    "        return output_gate * tf.tanh(state), state\n",
    "\n",
    "    # Unrolled LSTM loop.\n",
    "    output = saved_output\n",
    "    state = saved_state\n",
    "    for i in range(number_of_unrollings):\n",
    "        output, state = Basic_LSTM_cell(T[:,i], output, state)\n",
    "    \n",
    "    # Compute logits and loss for last step of LSTM.\n",
    "    # State saving across unrollings.\n",
    "    with tf.control_dependencies([saved_output.assign(output),\n",
    "                                saved_state.assign(state)]):\n",
    "        L = tf.nn.xw_plus_b(output, W, b)\n",
    "        loss = tf.reduce_mean(tf.nn.softmax_cross_entropy_with_logits_v2(labels = Tlabel, logits=L))\n",
    "    \n",
    "    # Decaying learning rate for optimizer.\n",
    "    global_step = tf.Variable(0)\n",
    "    learning_rate = tf.train.exponential_decay(initial_learning_rate, global_step, 5000, 0.1, staircase=True)\n",
    "    optimizer = tf.train.AdagradOptimizer(learning_rate)    \n",
    "    # Apply gradient clipping. \n",
    "    gradients, v = zip(*optimizer.compute_gradients(loss))\n",
    "    gradients, _ = tf.clip_by_global_norm(gradients, 1.25)\n",
    "    optimizer = optimizer.apply_gradients(zip(gradients, v), global_step=global_step)\n",
    "    \n",
    "    # Training predictions. \n",
    "    train_predict = tf.nn.softmax(L)\n",
    "    \n",
    "    # Valid predictions. \n",
    "    \n",
    "    valid_saved_output = tf.Variable(tf.zeros([len(valid_total), number_of_nodes]), trainable = False)\n",
    "    valid_saved_state = tf.Variable(tf.zeros([len(valid_total), number_of_nodes]), trainable = False)\n",
    "    valid_output = valid_saved_output\n",
    "    valid_state = valid_saved_state\n",
    "    for i in range(number_of_unrollings):\n",
    "        valid_output, valid_state = Basic_LSTM_cell(V[:,i], valid_output, valid_state)\n",
    "    \n",
    "    with tf.control_dependencies([valid_saved_output.assign(valid_output),\n",
    "                                valid_saved_state.assign(valid_state)]):\n",
    "        Lv = tf.nn.xw_plus_b(valid_output, W, b)\n",
    "        valid_predict = tf.nn.softmax(Lv)\n",
    "    \n",
    "    # Test predictions. \n",
    "    \n",
    "    test_output = tf.Variable(tf.zeros([len(test_total), number_of_nodes]), trainable = False)\n",
    "    test_state = tf.Variable(tf.zeros([len(test_total), number_of_nodes]), trainable = False)\n",
    "    for i in range(number_of_unrollings):\n",
    "        test_output, test_state = Basic_LSTM_cell(E[:,i], test_output, test_state)\n",
    "    test_predict = tf.nn.softmax(tf.nn.xw_plus_b(test_output, W, b))"
   ]
  },
  {
   "cell_type": "markdown",
   "metadata": {},
   "source": [
    "### Accuracy Scoring Function:"
   ]
  },
  {
   "cell_type": "code",
   "execution_count": 32,
   "metadata": {},
   "outputs": [],
   "source": [
    "def first_order_accuracy(predicted_labels, true_labels):\n",
    "    return(100*np.sum(np.argmax(predicted_labels, 1)==np.argmax(true_labels, 1))\n",
    "           /predicted_labels.shape[0])\n",
    "\n",
    "def vanish_max_axis1(array):\n",
    "    index = np.argmax(array, 1)\n",
    "    for i in range(len(array)):\n",
    "        array[i][index[i]] = 0\n",
    "    return array\n",
    "\n",
    "def second_order_accuracy(predicted_labels, true_labels):\n",
    "    second_predicted_labels = vanish_max_axis1(predicted_labels)\n",
    "    return(100*np.sum(np.argmax(second_predicted_labels, 1)==np.argmax(true_labels, 1))\n",
    "           /predicted_labels.shape[0])"
   ]
  },
  {
   "cell_type": "markdown",
   "metadata": {},
   "source": [
    "### LSTM Many-to-One Session:"
   ]
  },
  {
   "cell_type": "code",
   "execution_count": 34,
   "metadata": {},
   "outputs": [
    {
     "name": "stdout",
     "output_type": "stream",
     "text": [
      "Initialized\n",
      "Iteration 1000: average loss = 0.905536, learning rate = 1.000000\n",
      "====== Training Report ======\n",
      "First-order accuracy: 78.1%\n",
      "Second-order accuracy: 14.1%\n",
      "Iteration 2000: average loss = 0.715130, learning rate = 1.000000\n",
      "====== Training Report ======\n",
      "First-order accuracy: 70.3%\n",
      "Second-order accuracy: 23.4%\n",
      "====== Validation Report ======\n",
      "First-order accuracy: 74.7%.\n",
      "Second-order accuracy: 13.9%.\n",
      "Iteration 3000: average loss = 0.678627, learning rate = 1.000000\n",
      "====== Training Report ======\n",
      "First-order accuracy: 76.6%\n",
      "Second-order accuracy: 10.9%\n",
      "Iteration 4000: average loss = 0.651079, learning rate = 1.000000\n",
      "====== Training Report ======\n",
      "First-order accuracy: 81.2%\n",
      "Second-order accuracy: 6.2%\n",
      "====== Validation Report ======\n",
      "First-order accuracy: 75.7%.\n",
      "Second-order accuracy: 13.6%.\n",
      "Iteration 5000: average loss = 0.636383, learning rate = 0.100000\n",
      "====== Training Report ======\n",
      "First-order accuracy: 78.1%\n",
      "Second-order accuracy: 7.8%\n",
      "Iteration 6000: average loss = 0.601899, learning rate = 0.100000\n",
      "====== Training Report ======\n",
      "First-order accuracy: 82.8%\n",
      "Second-order accuracy: 12.5%\n",
      "====== Validation Report ======\n",
      "First-order accuracy: 76.0%.\n",
      "Second-order accuracy: 13.5%.\n",
      "Iteration 7000: average loss = 0.592475, learning rate = 0.100000\n",
      "====== Training Report ======\n",
      "First-order accuracy: 76.6%\n",
      "Second-order accuracy: 10.9%\n",
      "Iteration 8000: average loss = 0.587112, learning rate = 0.100000\n",
      "====== Training Report ======\n",
      "First-order accuracy: 75.0%\n",
      "Second-order accuracy: 18.8%\n",
      "====== Validation Report ======\n",
      "First-order accuracy: 75.7%.\n",
      "Second-order accuracy: 13.8%.\n",
      "Iteration 9000: average loss = 0.580175, learning rate = 0.100000\n",
      "====== Training Report ======\n",
      "First-order accuracy: 78.1%\n",
      "Second-order accuracy: 15.6%\n",
      "Iteration 10000: average loss = 0.580040, learning rate = 0.010000\n",
      "====== Training Report ======\n",
      "First-order accuracy: 84.4%\n",
      "Second-order accuracy: 7.8%\n",
      "====== Validation Report ======\n",
      "First-order accuracy: 75.8%.\n",
      "Second-order accuracy: 13.8%.\n",
      "====== Test Report ======\n",
      "First-order accuracy: 75.5%\n",
      "Second-order accuracy: 13.7%\n",
      "Accuracy when first and second choice are counted: 89.2%\n"
     ]
    }
   ],
   "source": [
    "number_of_iterations = 10001\n",
    "train_report_frequency = 1000\n",
    "valid_report_frequency = 2000\n",
    "data_index = 0\n",
    "\n",
    "with tf.Session(graph=Basic_LSTM_Mto1_graph) as session:\n",
    "    tf.global_variables_initializer().run()\n",
    "    print('Initialized')\n",
    "    mean_loss = 0\n",
    "    for iteration in range(number_of_iterations):\n",
    "        batch_data, batch_labels = generate_LSTM_batch(train_data, \n",
    "                                                       train_labels, \n",
    "                                                       batch_size, \n",
    "                                                       number_of_unrollings, \n",
    "                                                       embedding_size)\n",
    "        feed_dict = {T : batch_data, Tlabel : batch_labels}\n",
    "        _, l, train_predictions, lr = session.run([optimizer, loss, train_predict, learning_rate], feed_dict=feed_dict)\n",
    "        mean_loss += l\n",
    "        if iteration % train_report_frequency == 0 and iteration > 0:\n",
    "            mean_loss = mean_loss / train_report_frequency\n",
    "            print('Iteration %d: average loss = %f, learning rate = %f' % (iteration, mean_loss, lr))\n",
    "            mean_loss = 0\n",
    "            train_acc1 = first_order_accuracy(train_predictions, batch_labels)\n",
    "            train_acc2 = second_order_accuracy(train_predictions, batch_labels)\n",
    "            print('====== Training Report ======')\n",
    "            print('First-order accuracy: %.1f%%' % train_acc1)\n",
    "            print('Second-order accuracy: %.1f%%' % train_acc2)\n",
    "            if iteration % valid_report_frequency == 0 and iteration > 0:\n",
    "                valid_predictions = valid_predict.eval()\n",
    "                valid_acc1 = first_order_accuracy(valid_predictions, valid_total_labels)\n",
    "                valid_acc2 = second_order_accuracy(valid_predictions, valid_total_labels)\n",
    "                print('====== Validation Report ======')\n",
    "                print('First-order accuracy: %.1f%%.' % valid_acc1)\n",
    "                print('Second-order accuracy: %.1f%%.' % valid_acc2)\n",
    "    test_predictions = test_predict.eval()\n",
    "    test_acc1 = first_order_accuracy(test_predictions, test_total_labels)\n",
    "    test_acc2 = second_order_accuracy(test_predictions, test_total_labels)\n",
    "    print('====== Test Report ======')\n",
    "    print('First-order accuracy: %.1f%%' % test_acc1)\n",
    "    print('Second-order accuracy: %.1f%%' % test_acc2)\n",
    "    print('Accuracy when first and second choice are counted: %.1f%%' % (test_acc1+test_acc2))"
   ]
  },
  {
   "cell_type": "markdown",
   "metadata": {},
   "source": [
    "## Bidirectional LSTM Model: Many-to-One"
   ]
  },
  {
   "cell_type": "markdown",
   "metadata": {},
   "source": [
    "### Batch Generator:\n",
    "\n",
    "Batch generator modified to handle the vanishing problem in reverse."
   ]
  },
  {
   "cell_type": "code",
   "execution_count": 36,
   "metadata": {},
   "outputs": [],
   "source": [
    "null_vector = Word2Vec_with_origin[-1]\n",
    "data_index = 0\n",
    "\n",
    "def make_reverse_batch(batch, number_of_unrollings):\n",
    "    global null_vector\n",
    "    reverse_data_array = copy.deepcopy(batch)\n",
    "    for i in range(reverse_data_array.shape[0]):\n",
    "        for j in range(number_of_unrollings):\n",
    "            if not np.array_equal(reverse_data_array[i][j], null_vector):\n",
    "                reverse_row = np.flip(np.flip(reverse_data_array[i][j:], 1))\n",
    "                reverse_row = reverse_row.reshape(1, reverse_row.shape[0], reverse_row.shape[1])\n",
    "                fill = np.zeros((1,j,reverse_data_array.shape[2]))\n",
    "                concat = np.concatenate((fill, reverse_row), axis = 1)\n",
    "                reverse_data_array[i] = concat\n",
    "                break\n",
    "    return reverse_data_array\n",
    "\n",
    "def generate_Bidirectional_LSTM_batch(data_array, label_array, batch_size, number_of_unrollings, embedding_size):\n",
    "    global data_index\n",
    "    forward_batch = np.zeros(shape=(batch_size, number_of_unrollings, embedding_size), dtype=np.float32)\n",
    "    labels = np.zeros(shape=(batch_size, number_of_classes), dtype=np.float32)\n",
    "    for i in range(batch_size):\n",
    "        forward_batch[i] = Word2Vec_with_origin[data_array[data_index].astype(int)].reshape(1, \n",
    "                                                                                            number_of_unrollings, \n",
    "                                                                                            embedding_size)\n",
    "        labels[i] = label_array[data_index]\n",
    "        data_index = (data_index + 1) % len(data_array)\n",
    "    reverse_batch = make_reverse_batch(forward_batch, number_of_unrollings)\n",
    "    return forward_batch, reverse_batch, labels"
   ]
  },
  {
   "cell_type": "code",
   "execution_count": 37,
   "metadata": {},
   "outputs": [],
   "source": [
    "batch_size = 64\n",
    "\n",
    "test_forward_batch, test_reverse_batch, test_label = generate_Bidirectional_LSTM_batch(train_data, \n",
    "                                                                                       train_labels,\n",
    "                                                                                       batch_size,\n",
    "                                                                                       number_of_unrollings,\n",
    "                                                                                       embedding_size)\n",
    "\n",
    "data_index = 0\n",
    "valid_forward_total, valid_reverse_total, valid_total_labels = generate_Bidirectional_LSTM_batch(valid_data,\n",
    "                                                                                                 valid_labels,\n",
    "                                                                                                 len(valid_data),\n",
    "                                                                                                 number_of_unrollings,\n",
    "                                                                                                 embedding_size)\n",
    "\n",
    "data_index = 0\n",
    "test_forward_total, test_reverse_total, test_total_labels = generate_Bidirectional_LSTM_batch(test_data,\n",
    "                                                                                              test_labels,\n",
    "                                                                                              len(test_data),\n",
    "                                                                                              number_of_unrollings,\n",
    "                                                                                              embedding_size)"
   ]
  },
  {
   "cell_type": "code",
   "execution_count": 38,
   "metadata": {},
   "outputs": [
    {
     "name": "stdout",
     "output_type": "stream",
     "text": [
      "[[ 0.          0.          0.         ...  0.          0.\n",
      "   0.        ]\n",
      " [ 0.          0.          0.         ...  0.          0.\n",
      "   0.        ]\n",
      " [ 0.          0.          0.         ...  0.          0.\n",
      "   0.        ]\n",
      " ...\n",
      " [ 0.          0.          0.         ...  0.          0.\n",
      "   0.        ]\n",
      " [-0.18023746 -0.11994013  0.1010807  ...  0.0107041  -0.00394929\n",
      "  -0.08704674]\n",
      " [-0.09445643 -0.02227437 -0.12705268 ...  0.00754114 -0.06636912\n",
      "   0.00372875]]\n",
      "[[ 0.          0.          0.         ...  0.          0.\n",
      "   0.        ]\n",
      " [ 0.          0.          0.         ...  0.          0.\n",
      "   0.        ]\n",
      " [ 0.          0.          0.         ...  0.          0.\n",
      "   0.        ]\n",
      " ...\n",
      " [ 0.          0.          0.         ...  0.          0.\n",
      "   0.        ]\n",
      " [-0.09445643 -0.02227437 -0.12705268 ...  0.00754114 -0.06636912\n",
      "   0.00372875]\n",
      " [-0.18023746 -0.11994013  0.1010807  ...  0.0107041  -0.00394929\n",
      "  -0.08704674]]\n"
     ]
    }
   ],
   "source": [
    "# Visually inspect test batch to make sure the arrays are flipped correctly. \n",
    "\n",
    "break_note = False\n",
    "for i in range(len(test_forward_total)):\n",
    "    if break_note:\n",
    "        break\n",
    "    for j in range(len(test_forward_total[i])):\n",
    "        if not np.array_equal(test_forward_total[i][j], null_vector):\n",
    "            if j == 26:\n",
    "                print(test_forward_total[i])\n",
    "                print(test_reverse_total[i])\n",
    "                break_note = True\n",
    "            break"
   ]
  },
  {
   "cell_type": "markdown",
   "metadata": {},
   "source": [
    "### Bidirectional LSTM Many-to-One Graph:"
   ]
  },
  {
   "cell_type": "code",
   "execution_count": 43,
   "metadata": {},
   "outputs": [],
   "source": [
    "### Hyperparameters ###\n",
    "number_of_nodes = 64 \n",
    "initial_learning_rate = 1.\n",
    "batch_size = 64\n",
    "train_dropout = True\n",
    "dropout_keep_probability = .5\n",
    "#######################\n",
    "\n",
    "Bidirectional_LSTM_Mto1_graph = tf.Graph()\n",
    "with Bidirectional_LSTM_Mto1_graph.as_default():\n",
    "    # Input:\n",
    "    # Training\n",
    "    Tforward = tf.placeholder(tf.float32, shape = [batch_size, number_of_unrollings, embedding_size])\n",
    "    Treverse = tf.placeholder(tf.float32, shape = [batch_size, number_of_unrollings, embedding_size])\n",
    "    Tlabel = tf.placeholder(tf.float32, shape = [batch_size, number_of_classes])\n",
    "    # Validation\n",
    "    Vforward = tf.constant(valid_forward_total)\n",
    "    Vreverse = tf.constant(valid_reverse_total)\n",
    "    # Test\n",
    "    Eforward = tf.constant(test_forward_total)\n",
    "    Ereverse = tf.constant(test_reverse_total)\n",
    "    \n",
    "    # Forward LSTM trainable variables:\n",
    "    # Input gate and linear opertaion.\n",
    "    X_for_i = tf.Variable(tf.truncated_normal([embedding_size, number_of_nodes], -0.1, 0.1))\n",
    "    M_for_i = tf.Variable(tf.truncated_normal([number_of_nodes, number_of_nodes], -0.1, 0.1))\n",
    "    b_for_i = tf.Variable(tf.zeros([1, number_of_nodes]))\n",
    "    # Forget gate and linear opertaion.\n",
    "    X_for_f = tf.Variable(tf.truncated_normal([embedding_size, number_of_nodes], -0.1, 0.1))\n",
    "    M_for_f = tf.Variable(tf.truncated_normal([number_of_nodes, number_of_nodes], -0.1, 0.1))\n",
    "    b_for_f = tf.Variable(tf.zeros([1, number_of_nodes]))\n",
    "    # Memory cell and linear opertaion.                             \n",
    "    X_for_c = tf.Variable(tf.truncated_normal([embedding_size, number_of_nodes], -0.1, 0.1))\n",
    "    M_for_c = tf.Variable(tf.truncated_normal([number_of_nodes, number_of_nodes], -0.1, 0.1))\n",
    "    b_for_c = tf.Variable(tf.zeros([1, number_of_nodes]))\n",
    "    # Output gate and linear opertaion..\n",
    "    X_for_o = tf.Variable(tf.truncated_normal([embedding_size, number_of_nodes], -0.1, 0.1))\n",
    "    M_for_o = tf.Variable(tf.truncated_normal([number_of_nodes, number_of_nodes], -0.1, 0.1))\n",
    "    b_for_o = tf.Variable(tf.zeros([1, number_of_nodes]))\n",
    "    \n",
    "    # Reverse LSTM trainable variables:\n",
    "    # Input gate and linear opertaion.\n",
    "    X_rev_i = tf.Variable(tf.truncated_normal([embedding_size, number_of_nodes], -0.1, 0.1))\n",
    "    M_rev_i = tf.Variable(tf.truncated_normal([number_of_nodes, number_of_nodes], -0.1, 0.1))\n",
    "    b_rev_i = tf.Variable(tf.zeros([1, number_of_nodes]))\n",
    "    # Forget gate and linear opertaion.\n",
    "    X_rev_f = tf.Variable(tf.truncated_normal([embedding_size, number_of_nodes], -0.1, 0.1))\n",
    "    M_rev_f = tf.Variable(tf.truncated_normal([number_of_nodes, number_of_nodes], -0.1, 0.1))\n",
    "    b_rev_f = tf.Variable(tf.zeros([1, number_of_nodes]))\n",
    "    # Memory cell and linear opertaion.                             \n",
    "    X_rev_c = tf.Variable(tf.truncated_normal([embedding_size, number_of_nodes], -0.1, 0.1))\n",
    "    M_rev_c = tf.Variable(tf.truncated_normal([number_of_nodes, number_of_nodes], -0.1, 0.1))\n",
    "    b_rev_c = tf.Variable(tf.zeros([1, number_of_nodes]))\n",
    "    # Output gate and linear opertaion..\n",
    "    X_rev_o = tf.Variable(tf.truncated_normal([embedding_size, number_of_nodes], -0.1, 0.1))\n",
    "    M_rev_o = tf.Variable(tf.truncated_normal([number_of_nodes, number_of_nodes], -0.1, 0.1))\n",
    "    b_rev_o = tf.Variable(tf.zeros([1, number_of_nodes]))\n",
    "    \n",
    "    # Variables saving state across unrollings.\n",
    "    saved_forward_output = tf.Variable(tf.zeros([batch_size, number_of_nodes]), trainable=False)\n",
    "    saved_forward_state = tf.Variable(tf.zeros([batch_size, number_of_nodes]), trainable=False)\n",
    "    saved_reverse_output = tf.Variable(tf.zeros([batch_size, number_of_nodes]), trainable=False)\n",
    "    saved_reverse_state = tf.Variable(tf.zeros([batch_size, number_of_nodes]), trainable=False)\n",
    "    # Classifier weights and biases.\n",
    "    W = tf.Variable(tf.truncated_normal([2*number_of_nodes, number_of_classes], -0.1, 0.1))\n",
    "    b = tf.Variable(tf.zeros([number_of_classes]))\n",
    "    \n",
    "    # LSTM cell. \n",
    "    def Basic_forward_LSTM_cell(sequence_element, previous_output, state, dropout = True):\n",
    "        input_gate = tf.sigmoid(tf.matmul(sequence_element, X_for_i) + tf.matmul(previous_output, M_for_i) + b_for_i)\n",
    "        forget_gate = tf.sigmoid(tf.matmul(sequence_element, X_for_f) + tf.matmul(previous_output, M_for_f) + b_for_f)\n",
    "        update = tf.matmul(sequence_element, X_for_c) + tf.matmul(previous_output, M_for_c) + b_for_c\n",
    "        if dropout:\n",
    "            state = forget_gate * state + input_gate * tf.nn.dropout(tf.tanh(update),\n",
    "                                                                     keep_prob = dropout_keep_probability)\n",
    "        else:\n",
    "            state = forget_gate * state + input_gate * tf.tanh(update)\n",
    "        output_gate = tf.sigmoid(tf.matmul(sequence_element, X_for_o) + tf.matmul(previous_output, M_for_o) + b_for_o)\n",
    "        return output_gate * tf.tanh(state), state\n",
    "    \n",
    "    def Basic_reverse_LSTM_cell(sequence_element, previous_output, state, dropout = True):\n",
    "        input_gate = tf.sigmoid(tf.matmul(sequence_element, X_rev_i) + tf.matmul(previous_output, M_rev_i) + b_rev_i)\n",
    "        forget_gate = tf.sigmoid(tf.matmul(sequence_element, X_rev_f) + tf.matmul(previous_output, M_rev_f) + b_rev_f)\n",
    "        update = tf.matmul(sequence_element, X_rev_c) + tf.matmul(previous_output, M_rev_c) + b_rev_c\n",
    "        if dropout:\n",
    "            state = forget_gate * state + input_gate * tf.nn.dropout(tf.tanh(update),\n",
    "                                                                     keep_prob = dropout_keep_probability)\n",
    "        else:\n",
    "            state = forget_gate * state + input_gate * tf.tanh(update)\n",
    "        output_gate = tf.sigmoid(tf.matmul(sequence_element, X_rev_o) + tf.matmul(previous_output, M_rev_o) + b_rev_o)\n",
    "        return output_gate * tf.tanh(state), state\n",
    "\n",
    "    # Unrolled Forward LSTM loop.\n",
    "    forward_output = saved_forward_output\n",
    "    forward_state = saved_forward_state\n",
    "    for i in range(number_of_unrollings):\n",
    "        forward_output, forward_state = Basic_forward_LSTM_cell(Tforward[:,i], \n",
    "                                                                forward_output, \n",
    "                                                                forward_state, \n",
    "                                                                dropout = train_dropout)\n",
    "    \n",
    "    # Unrolled Reverse LSTM loop.\n",
    "    reverse_output = saved_reverse_output\n",
    "    reverse_state = saved_reverse_state\n",
    "    for i in range(number_of_unrollings):\n",
    "        reverse_output, reverse_state = Basic_reverse_LSTM_cell(Treverse[:,i], \n",
    "                                                                reverse_output, \n",
    "                                                                reverse_state, \n",
    "                                                                dropout = train_dropout)\n",
    "    \n",
    "    # Compute logits and loss for last step of LSTM.\n",
    "    # State saving across unrollings.\n",
    "    with tf.control_dependencies([saved_forward_output.assign(forward_output),\n",
    "                                saved_forward_state.assign(forward_state),\n",
    "                                saved_reverse_output.assign(reverse_output),\n",
    "                                saved_reverse_state.assign(reverse_state)]):\n",
    "        L = tf.nn.xw_plus_b(tf.concat((forward_output, reverse_output), 1), W, b)\n",
    "        loss = tf.reduce_mean(tf.nn.softmax_cross_entropy_with_logits_v2(labels = Tlabel, logits=L))\n",
    "    \n",
    "    # Decaying learning rate for optimizer.\n",
    "    global_step = tf.Variable(0)\n",
    "    learning_rate = tf.train.exponential_decay(initial_learning_rate, global_step, 10000, 0.1, staircase=True)\n",
    "    optimizer = tf.train.AdagradOptimizer(learning_rate)    \n",
    "    # Apply gradient clipping. \n",
    "    gradients, v = zip(*optimizer.compute_gradients(loss))\n",
    "    gradients, _ = tf.clip_by_global_norm(gradients, 1.25)\n",
    "    optimizer = optimizer.apply_gradients(zip(gradients, v), global_step=global_step)\n",
    "    \n",
    "    # Training predictions. \n",
    "    train_predict = tf.nn.softmax(L)\n",
    "    \n",
    "    # Validation predictions. \n",
    "    valid_saved_forward_output = tf.Variable(tf.zeros([len(valid_forward_total), number_of_nodes]), trainable = False)\n",
    "    valid_saved_forward_state = tf.Variable(tf.zeros([len(valid_forward_total), number_of_nodes]), trainable = False)\n",
    "    valid_forward_output = valid_saved_forward_output\n",
    "    valid_forward_state = valid_saved_forward_state\n",
    "    for i in range(number_of_unrollings):\n",
    "        valid_forward_output, valid_forward_state = Basic_forward_LSTM_cell(Vforward[:,i], \n",
    "                                                                            valid_forward_output, \n",
    "                                                                            valid_forward_state,\n",
    "                                                                            dropout = False)\n",
    "    \n",
    "    valid_saved_reverse_output = tf.Variable(tf.zeros([len(valid_reverse_total), number_of_nodes]), trainable = False)\n",
    "    valid_saved_reverse_state = tf.Variable(tf.zeros([len(valid_reverse_total), number_of_nodes]), trainable = False)\n",
    "    valid_reverse_output = valid_saved_reverse_output\n",
    "    valid_reverse_state = valid_saved_reverse_state\n",
    "    for i in range(number_of_unrollings):\n",
    "        valid_reverse_output, valid_reverse_state = Basic_reverse_LSTM_cell(Vreverse[:,i],\n",
    "                                                                            valid_reverse_output,\n",
    "                                                                            valid_reverse_state, \n",
    "                                                                            dropout = False)\n",
    "    \n",
    "    with tf.control_dependencies([valid_saved_forward_output.assign(valid_forward_output),\n",
    "                                valid_saved_forward_state.assign(valid_forward_state),\n",
    "                                valid_saved_reverse_output.assign(valid_reverse_output),\n",
    "                                valid_saved_reverse_state.assign(valid_reverse_state)]):\n",
    "        valid_predict = tf.nn.softmax(tf.nn.xw_plus_b(tf.concat((valid_forward_output, valid_reverse_output), 1), W, b))\n",
    "    \n",
    "    # Test predictions. \n",
    "    test_saved_forward_output = tf.Variable(tf.zeros([len(test_forward_total), number_of_nodes]), trainable = False)\n",
    "    test_saved_forward_state = tf.Variable(tf.zeros([len(test_forward_total), number_of_nodes]), trainable = False)\n",
    "    test_forward_output = test_saved_forward_output\n",
    "    test_forward_state = test_saved_forward_state\n",
    "    for i in range(number_of_unrollings):\n",
    "        test_forward_output, test_forward_state = Basic_forward_LSTM_cell(Eforward[:,i],\n",
    "                                                                          test_forward_output,\n",
    "                                                                          test_forward_state,\n",
    "                                                                          dropout = False)\n",
    "    \n",
    "    test_saved_reverse_output = tf.Variable(tf.zeros([len(test_reverse_total), number_of_nodes]), trainable = False)\n",
    "    test_saved_reverse_state = tf.Variable(tf.zeros([len(test_reverse_total), number_of_nodes]), trainable = False)\n",
    "    test_reverse_output = test_saved_reverse_output\n",
    "    test_reverse_state = test_saved_reverse_state\n",
    "    for i in range(number_of_unrollings):\n",
    "        test_reverse_output, test_reverse_state = Basic_reverse_LSTM_cell(Ereverse[:,i],\n",
    "                                                                          test_reverse_output,\n",
    "                                                                          test_reverse_state,\n",
    "                                                                          dropout = False)\n",
    "    \n",
    "    with tf.control_dependencies([test_saved_forward_output.assign(test_forward_output),\n",
    "                                test_saved_forward_state.assign(test_forward_state),\n",
    "                                test_saved_reverse_output.assign(test_reverse_output),\n",
    "                                test_saved_reverse_state.assign(test_reverse_state)]):\n",
    "        test_predict = tf.nn.softmax(tf.nn.xw_plus_b(tf.concat((test_forward_output, test_reverse_output), 1), W, b))"
   ]
  },
  {
   "cell_type": "markdown",
   "metadata": {},
   "source": [
    "### Bidirectional LSTM Many-to-One Session:"
   ]
  },
  {
   "cell_type": "code",
   "execution_count": 45,
   "metadata": {},
   "outputs": [
    {
     "name": "stdout",
     "output_type": "stream",
     "text": [
      "Initialized\n",
      "Iteration 1000: average loss = 0.893237, learning rate = 1.000000\n",
      "====== Training Report ======\n",
      "First-order accuracy: 73.4%\n",
      "Second-order accuracy: 17.2%\n",
      "Iteration 2000: average loss = 0.760627, learning rate = 1.000000\n",
      "====== Training Report ======\n",
      "First-order accuracy: 70.3%\n",
      "Second-order accuracy: 21.9%\n",
      "====== Validation Report ======\n",
      "First-order accuracy: 74.0%.\n",
      "Second-order accuracy: 14.1%.\n",
      "Iteration 3000: average loss = 0.733975, learning rate = 1.000000\n",
      "====== Training Report ======\n",
      "First-order accuracy: 68.8%\n",
      "Second-order accuracy: 17.2%\n",
      "Iteration 4000: average loss = 0.713931, learning rate = 1.000000\n",
      "====== Training Report ======\n",
      "First-order accuracy: 76.6%\n",
      "Second-order accuracy: 9.4%\n",
      "====== Validation Report ======\n",
      "First-order accuracy: 74.9%.\n",
      "Second-order accuracy: 14.0%.\n",
      "Iteration 5000: average loss = 0.707681, learning rate = 1.000000\n",
      "====== Training Report ======\n",
      "First-order accuracy: 68.8%\n",
      "Second-order accuracy: 14.1%\n",
      "Iteration 6000: average loss = 0.692417, learning rate = 1.000000\n",
      "====== Training Report ======\n",
      "First-order accuracy: 73.4%\n",
      "Second-order accuracy: 18.8%\n",
      "====== Validation Report ======\n",
      "First-order accuracy: 75.1%.\n",
      "Second-order accuracy: 14.0%.\n",
      "Iteration 7000: average loss = 0.685068, learning rate = 1.000000\n",
      "====== Training Report ======\n",
      "First-order accuracy: 73.4%\n",
      "Second-order accuracy: 9.4%\n",
      "Iteration 8000: average loss = 0.674191, learning rate = 1.000000\n",
      "====== Training Report ======\n",
      "First-order accuracy: 73.4%\n",
      "Second-order accuracy: 15.6%\n",
      "====== Validation Report ======\n",
      "First-order accuracy: 75.5%.\n",
      "Second-order accuracy: 14.1%.\n",
      "Iteration 9000: average loss = 0.667222, learning rate = 1.000000\n",
      "====== Training Report ======\n",
      "First-order accuracy: 78.1%\n",
      "Second-order accuracy: 14.1%\n",
      "Iteration 10000: average loss = 0.663917, learning rate = 0.100000\n",
      "====== Training Report ======\n",
      "First-order accuracy: 84.4%\n",
      "Second-order accuracy: 7.8%\n",
      "====== Validation Report ======\n",
      "First-order accuracy: 75.4%.\n",
      "Second-order accuracy: 13.9%.\n",
      "====== Test Report ======\n",
      "First-order accuracy: 75.2%\n",
      "Second-order accuracy: 14.3%\n",
      "Accuracy when first and second choice are counted: 89.5%\n"
     ]
    }
   ],
   "source": [
    "number_of_iterations = 10001\n",
    "train_report_frequency = 1000\n",
    "valid_report_frequency = 2*train_report_frequency\n",
    "data_index = 0\n",
    "\n",
    "with tf.Session(graph=Bidirectional_LSTM_Mto1_graph) as session:\n",
    "    tf.global_variables_initializer().run()\n",
    "    print('Initialized')\n",
    "    mean_loss = 0\n",
    "    for iteration in range(number_of_iterations):\n",
    "        forward_batch_data, reverse_batch_data, batch_labels = generate_Bidirectional_LSTM_batch(train_data,\n",
    "                                                                                                 train_labels,\n",
    "                                                                                                 batch_size,\n",
    "                                                                                                 number_of_unrollings,\n",
    "                                                                                                 embedding_size)\n",
    "        feed_dict = {Tforward : forward_batch_data, Treverse : reverse_batch_data, Tlabel : batch_labels}\n",
    "        _, l, train_predictions, lr = session.run([optimizer, loss, train_predict, learning_rate], feed_dict=feed_dict)\n",
    "        mean_loss += l\n",
    "        if iteration % train_report_frequency == 0 and iteration > 0:\n",
    "            mean_loss = mean_loss / train_report_frequency\n",
    "            print('Iteration %d: average loss = %f, learning rate = %f' % (iteration, mean_loss, lr))\n",
    "            mean_loss = 0\n",
    "            train_acc1 = first_order_accuracy(train_predictions, batch_labels)\n",
    "            train_acc2 = second_order_accuracy(train_predictions, batch_labels)\n",
    "            print('====== Training Report ======')\n",
    "            print('First-order accuracy: %.1f%%' % train_acc1)\n",
    "            print('Second-order accuracy: %.1f%%' % train_acc2)\n",
    "            if iteration % valid_report_frequency == 0 and iteration > 0:\n",
    "                valid_predictions = valid_predict.eval()\n",
    "                valid_acc1 = first_order_accuracy(valid_predictions, valid_total_labels)\n",
    "                valid_acc2 = second_order_accuracy(valid_predictions, valid_total_labels)\n",
    "                print('====== Validation Report ======')\n",
    "                print('First-order accuracy: %.1f%%.' % valid_acc1)\n",
    "                print('Second-order accuracy: %.1f%%.' % valid_acc2)\n",
    "    test_predictions = test_predict.eval()\n",
    "    test_acc1 = first_order_accuracy(test_predictions, test_total_labels)\n",
    "    test_acc2 = second_order_accuracy(test_predictions, test_total_labels)\n",
    "    print('====== Test Report ======')\n",
    "    print('First-order accuracy: %.1f%%' % test_acc1)\n",
    "    print('Second-order accuracy: %.1f%%' % test_acc2)\n",
    "    print('Accuracy when first and second choice are counted: %.1f%%' % (test_acc1+test_acc2))"
   ]
  },
  {
   "cell_type": "markdown",
   "metadata": {},
   "source": [
    "## LSTM Model: Many-to-Many (to do)"
   ]
  }
 ],
 "metadata": {
  "kernelspec": {
   "display_name": "Python 3",
   "language": "python",
   "name": "python3"
  },
  "language_info": {
   "codemirror_mode": {
    "name": "ipython",
    "version": 3
   },
   "file_extension": ".py",
   "mimetype": "text/x-python",
   "name": "python",
   "nbconvert_exporter": "python",
   "pygments_lexer": "ipython3",
   "version": "3.6.7"
  }
 },
 "nbformat": 4,
 "nbformat_minor": 2
}
